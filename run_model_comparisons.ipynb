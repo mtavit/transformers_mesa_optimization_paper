{
 "cells": [
  {
   "cell_type": "markdown",
   "metadata": {},
   "source": [
    "# Model Comparisons"
   ]
  },
  {
   "cell_type": "markdown",
   "metadata": {},
   "source": [
    "Please note: The (fixed) parameters 'alphas' and 'betas' for chebyshev approximations in this file have been precomputed using the 'learn_parameters_chebyshev' functions in the src/models/auxiliary_models.py file using 6 approximiation-steps, a training length of 20000 steps, the resp. config-dicts for the experiment settings and use_mlp, part_obs_constr - Flags set to (False, False), (False, True), (True, False), respectively."
   ]
  },
  {
   "cell_type": "markdown",
   "metadata": {},
   "source": [
    "### Setup:"
   ]
  },
  {
   "cell_type": "markdown",
   "metadata": {},
   "source": [
    "**Imports, Paths, GPU-Settings and Flags:**"
   ]
  },
  {
   "cell_type": "code",
   "execution_count": 1,
   "metadata": {},
   "outputs": [],
   "source": [
    "import os\n",
    "import jax\n",
    "import pickle as pkl\n",
    "import jax.numpy as jnp\n",
    "import matplotlib.pyplot as plt\n",
    "from flax.training import train_state\n",
    "from typing import Dict, List\n",
    "from matplotlib import cm, colors\n",
    "\n",
    "from configs.config import get_experiment_config, get_model_config\n",
    "from src.training_init import TrainingInitializer\n",
    "from src.models.auxiliary_models import LeastSquaresSequenceSolver\n",
    "from src.util.sequence_performance.sequenceloss_eval import SequencePredictionEvaluator\n",
    "from src.train import _compute_loss"
   ]
  },
  {
   "cell_type": "code",
   "execution_count": 2,
   "metadata": {},
   "outputs": [
    {
     "name": "stdout",
     "output_type": "stream",
     "text": [
      "Running on Devices: [CpuDevice(id=0)],\n",
      "Re-Run Analysis: False, \n",
      "Re-Run Models: False, \n",
      "Store Results: False\n"
     ]
    }
   ],
   "source": [
    "os.environ['CUDA_VISIBLE_DEVICES'] = '0'\n",
    "gpus = jax.devices()\n",
    "\n",
    "rerun_models = False\n",
    "rerun_analyses = False\n",
    "store_results = False\n",
    "path_chebyshev = 'experiments/auxmodel_params/cheb_params.pkl'\n",
    "\n",
    "path_model_fully_7 = 'experiment_results/linear_seq_fully/model_sm_7l_fullfledged.pkl'\n",
    "path_model_fully_mesa = 'experiment_results/linear_seq_fully/model_mesa_fullfledged.pkl'\n",
    "path_partobs_all_models = 'experiment_results/linear_seq_partial/all_models.pkl'\n",
    "path_model_nonlin_7 = 'experiment_results/nonlinear_seq_fully/model_sm_7l_fullfledged.pkl'\n",
    "path_model_nonlin_mesa = 'experiment_results/nonlinear_seq_fully/model_mesa_fullfledged.pkl'\n",
    "\n",
    "path_comparison_fully = 'experiment_results/linear_seq_fully/comparison_results.pkl'\n",
    "path_comparison_partobs = 'experiment_results/linear_seq_partial/comparison_results.pkl'\n",
    "path_comparison_nonlin = 'experiment_results/nonlinear_seq_fully/comparison_results.pkl'\n",
    "\n",
    "print(f'Running on Devices: {gpus},\\nRe-Run Analysis: {rerun_analyses}, \\nRe-Run Models: {rerun_models}, \\nStore Results: {store_results}')"
   ]
  },
  {
   "cell_type": "markdown",
   "metadata": {},
   "source": [
    "## Models trained on fully observerable linear dynamical systems:"
   ]
  },
  {
   "cell_type": "code",
   "execution_count": 7,
   "metadata": {},
   "outputs": [],
   "source": [
    "models_full = {'full_seven_sm': 'fully_obs_full_fledged_transformer.6.4.40.50.20.True.False.False.False.0.False.False.0.False.False.False.False',\n",
    "               'hybrid_mesa':          'fully_obs_full_fledged_mesa.1.4.40.50.20.True.False.False.False.0.False.True.1.False.False.False.False'}"
   ]
  },
  {
   "cell_type": "markdown",
   "metadata": {},
   "source": [
    "Full-softmax:"
   ]
  },
  {
   "cell_type": "code",
   "execution_count": 18,
   "metadata": {},
   "outputs": [
    {
     "name": "stdout",
     "output_type": "stream",
     "text": [
      "model:  fully_obs_full_fledged_transformer  layers: 6  heads:  4  embed_dim:  40  seq_len:  50  key_size:  20  pe_kq:  True  pe_emb:  False  laynorm:  False  mlp:  False  dim_mlp:  0  linear:  False  clip:  False  clip_val:  0\n"
     ]
    }
   ],
   "source": [
    "exp_config_sensitivity = get_experiment_config(experiment='probing_full', seeds=[1, 11, 111, 1111, 11111])\n",
    "(model_tf_full, optimizer, data_generator_fully, train_module) = TrainingInitializer(model_config=get_model_config(models_full['full_seven_sm']), \n",
    "                                                                                    experiment_config=exp_config_sensitivity).run()\n",
    "if rerun_models:\n",
    "    training_seed = 11111\n",
    "    rng = jax.random.PRNGKey(training_seed)\n",
    "    rng, test_rng, train_rng = jax.random.split(rng, 3)\n",
    "    state_tf_full, rng = train_module.get_init_state(rng, interpol_call=False)\n",
    "    for epoch_idx in range(100):\n",
    "                        state_tf_full, train_rng, _, _, _ = train_module.train_epoch(epoch=epoch_idx,\n",
    "                                                                                        state=state_tf_full,\n",
    "                                                                                        rng=train_rng,\n",
    "                                                                                        test_rng=test_rng,\n",
    "                                                                                        num_batches_train=100,\n",
    "                                                                                        interpolate=False)\n",
    "    if store_results:\n",
    "        print(f'Storing results in path=\\'{path_model_fully_7}\\'')\n",
    "        a = {'params' : state_tf_full.params}\n",
    "        with open(path_model_fully_7, 'wb') as handle:\n",
    "            pkl.dump(a, handle, protocol=pkl.HIGHEST_PROTOCOL)\n",
    "else:\n",
    "    with open(path_model_fully_7, 'rb') as handle:\n",
    "        a = pkl.load(handle)\n",
    "    state_tf_full = train_state.TrainState.create(apply_fn=model_tf_full.apply, params=a['params'], tx=optimizer)"
   ]
  },
  {
   "cell_type": "markdown",
   "metadata": {},
   "source": [
    "Hybrid-Mesa:"
   ]
  },
  {
   "cell_type": "code",
   "execution_count": 19,
   "metadata": {},
   "outputs": [
    {
     "name": "stdout",
     "output_type": "stream",
     "text": [
      "model:  fully_obs_full_fledged_mesa  layers: 1  heads:  4  embed_dim:  40  seq_len:  50  key_size:  20  pe_kq:  True  pe_emb:  False  laynorm:  False  mlp:  False  dim_mlp:  0  linear:  False  clip:  True  clip_val:  1\n"
     ]
    }
   ],
   "source": [
    "exp_config_sensitivity = get_experiment_config(experiment='probing_full', seeds=[1, 11, 111, 1111, 11111])\n",
    "exp_config_sensitivity.optim.peak_lr = 3e-4\n",
    "(model_mesa_fully, optimizer, data_generator_fully, train_module) = TrainingInitializer(model_config=get_model_config(models_full['hybrid_mesa']), \n",
    "                                                                       experiment_config=exp_config_sensitivity).run()\n",
    "if rerun_models:\n",
    "    training_seed = 68\n",
    "    rng = jax.random.PRNGKey(training_seed)\n",
    "    rng, test_rng, train_rng = jax.random.split(rng, 3)\n",
    "    state_mesa_fully, rng = train_module.get_init_state(rng, interpol_call=False)\n",
    "    for epoch_idx in range(200):\n",
    "        state_mesa_fully, train_rng, _, _, _ = train_module.train_epoch(epoch=epoch_idx,\n",
    "                                                                        state=state_mesa_fully,\n",
    "                                                                        rng=train_rng,\n",
    "                                                                        test_rng=test_rng,\n",
    "                                                                        num_batches_train=100,\n",
    "                                                                        interpolate=False)\n",
    "    if store_results:\n",
    "        print(f'Storing results in path=\\'{path_model_fully_mesa}\\'')\n",
    "        a = {'params' : state_tf_full.params}\n",
    "        with open(path_model_fully_mesa, 'wb') as handle:\n",
    "            pkl.dump(a, handle, protocol=pkl.HIGHEST_PROTOCOL)\n",
    "else:\n",
    "    with open(path_model_fully_mesa, 'rb') as handle:\n",
    "        a = pkl.load(handle)\n",
    "    state_mesa_fully = train_state.TrainState.create(apply_fn=model_mesa_fully.apply, params=a['params'], tx=optimizer)"
   ]
  },
  {
   "cell_type": "code",
   "execution_count": 20,
   "metadata": {},
   "outputs": [],
   "source": [
    "lsq_solver_fully = LeastSquaresSequenceSolver(approximator='chebyshev',\n",
    "                                                seq_len=50,\n",
    "                                                apx_steps=20,\n",
    "                                                lamb=0.001,\n",
    "                                                alphas=[1.0292039, 3.8550997, 3.7469113, 3.3827868, 2.9881542, 2.0934358],\n",
    "                                                betas=[0.0,        0.6402129, 0.4798134, 0.8143542, 1.6680348, 2.4196014])\n",
    "\n",
    "lsq_solver_baseline_fully = LeastSquaresSequenceSolver(approximator='None',\n",
    "                                                        seq_len=50,\n",
    "                                                        lamb=0.001)"
   ]
  },
  {
   "cell_type": "code",
   "execution_count": 48,
   "metadata": {},
   "outputs": [],
   "source": [
    "loss_fn = lambda p, t : list((jax.numpy.sum(((p - t)**2), axis=(0,2))/(2*p.shape[0])))\n",
    "seq_evaluator = SequencePredictionEvaluator(data_generator=data_generator_fully,\n",
    "                                            test_batch_size=256,\n",
    "                                            seeds=exp_config_sensitivity.seeds,\n",
    "                                            model_list = ['transformer', 'mesa-transformer', 'lsq', 'lsq'],\n",
    "                                            models = [model_tf_full, model_mesa_fully, lsq_solver_fully, lsq_solver_baseline_fully],\n",
    "                                            states = [state_tf_full, state_mesa_fully, None, None, None],\n",
    "                                            loss_fn = loss_fn)\n",
    "\n",
    "if rerun_analyses:\n",
    "    seq_loss_dict_fully = seq_evaluator.run()\n",
    "    if store_results:\n",
    "        print(f'Storing performance evaluation dict. in path=\\'{path_comparison_fully}\\'')\n",
    "        with open(path_comparison_fully, 'wb') as handle:\n",
    "            pkl.dump(seq_loss_dict_fully, handle, protocol=pkl.HIGHEST_PROTOCOL)\n",
    "else:\n",
    "    with open(path_comparison_fully, 'rb') as handle:\n",
    "        seq_loss_dict_fully = pkl.load(handle)"
   ]
  },
  {
   "cell_type": "markdown",
   "metadata": {},
   "source": [
    "## Models trained on partially observable linear dynamical systems:"
   ]
  },
  {
   "cell_type": "code",
   "execution_count": 4,
   "metadata": {},
   "outputs": [],
   "source": [
    "sm_model_def = lambda dim : f'part_obs_full_fledged_transformer.6.12.{dim}.50.{min(20,dim)}.True.False.False.False.0.False.False.0.False.False.False.False'\n",
    "mesa_model_def = lambda dim : f'part_obs_full_fledged_mesa.1.12.{dim}.50.{min(20,dim)}.True.False.False.False.0.False.True.1.False.False.False.False'"
   ]
  },
  {
   "cell_type": "code",
   "execution_count": 5,
   "metadata": {},
   "outputs": [
    {
     "name": "stdout",
     "output_type": "stream",
     "text": [
      "model:  part_obs_full_fledged_transformer  layers: 6  heads:  12  embed_dim:  5  seq_len:  50  key_size:  5  pe_kq:  True  pe_emb:  False  laynorm:  False  mlp:  False  dim_mlp:  0  linear:  False  clip:  False  clip_val:  0\n",
      "model:  part_obs_full_fledged_mesa  layers: 1  heads:  12  embed_dim:  5  seq_len:  50  key_size:  5  pe_kq:  True  pe_emb:  False  laynorm:  False  mlp:  False  dim_mlp:  0  linear:  False  clip:  True  clip_val:  1\n",
      "model:  part_obs_full_fledged_transformer  layers: 6  heads:  12  embed_dim:  10  seq_len:  50  key_size:  10  pe_kq:  True  pe_emb:  False  laynorm:  False  mlp:  False  dim_mlp:  0  linear:  False  clip:  False  clip_val:  0\n",
      "model:  part_obs_full_fledged_mesa  layers: 1  heads:  12  embed_dim:  10  seq_len:  50  key_size:  10  pe_kq:  True  pe_emb:  False  laynorm:  False  mlp:  False  dim_mlp:  0  linear:  False  clip:  True  clip_val:  1\n",
      "model:  part_obs_full_fledged_transformer  layers: 6  heads:  12  embed_dim:  15  seq_len:  50  key_size:  15  pe_kq:  True  pe_emb:  False  laynorm:  False  mlp:  False  dim_mlp:  0  linear:  False  clip:  False  clip_val:  0\n",
      "model:  part_obs_full_fledged_mesa  layers: 1  heads:  12  embed_dim:  15  seq_len:  50  key_size:  15  pe_kq:  True  pe_emb:  False  laynorm:  False  mlp:  False  dim_mlp:  0  linear:  False  clip:  True  clip_val:  1\n",
      "model:  part_obs_full_fledged_transformer  layers: 6  heads:  12  embed_dim:  20  seq_len:  50  key_size:  20  pe_kq:  True  pe_emb:  False  laynorm:  False  mlp:  False  dim_mlp:  0  linear:  False  clip:  False  clip_val:  0\n",
      "model:  part_obs_full_fledged_mesa  layers: 1  heads:  12  embed_dim:  20  seq_len:  50  key_size:  20  pe_kq:  True  pe_emb:  False  laynorm:  False  mlp:  False  dim_mlp:  0  linear:  False  clip:  True  clip_val:  1\n",
      "model:  part_obs_full_fledged_transformer  layers: 6  heads:  12  embed_dim:  30  seq_len:  50  key_size:  20  pe_kq:  True  pe_emb:  False  laynorm:  False  mlp:  False  dim_mlp:  0  linear:  False  clip:  False  clip_val:  0\n",
      "model:  part_obs_full_fledged_mesa  layers: 1  heads:  12  embed_dim:  30  seq_len:  50  key_size:  20  pe_kq:  True  pe_emb:  False  laynorm:  False  mlp:  False  dim_mlp:  0  linear:  False  clip:  True  clip_val:  1\n",
      "model:  part_obs_full_fledged_transformer  layers: 6  heads:  12  embed_dim:  50  seq_len:  50  key_size:  20  pe_kq:  True  pe_emb:  False  laynorm:  False  mlp:  False  dim_mlp:  0  linear:  False  clip:  False  clip_val:  0\n",
      "model:  part_obs_full_fledged_mesa  layers: 1  heads:  12  embed_dim:  50  seq_len:  50  key_size:  20  pe_kq:  True  pe_emb:  False  laynorm:  False  mlp:  False  dim_mlp:  0  linear:  False  clip:  True  clip_val:  1\n",
      "model:  part_obs_full_fledged_transformer  layers: 6  heads:  12  embed_dim:  80  seq_len:  50  key_size:  20  pe_kq:  True  pe_emb:  False  laynorm:  False  mlp:  False  dim_mlp:  0  linear:  False  clip:  False  clip_val:  0\n",
      "model:  part_obs_full_fledged_mesa  layers: 1  heads:  12  embed_dim:  80  seq_len:  50  key_size:  20  pe_kq:  True  pe_emb:  False  laynorm:  False  mlp:  False  dim_mlp:  0  linear:  False  clip:  True  clip_val:  1\n"
     ]
    }
   ],
   "source": [
    "if rerun_models:\n",
    "        params_list_sm_partobs = []\n",
    "        params_list_mesa_partobs = []\n",
    "        init_training_seed = 42\n",
    "        exp_config_partobs = get_experiment_config(experiment='partobs', seeds=[1, 11, 111, 1111, 11111])\n",
    "        for dimension in [5, 10, 15, 20, 30, 50, 80]:\n",
    "                model_config_partobs_SM = get_model_config(sm_model_def(dimension))\n",
    "                model_config_partobs_Mesa = get_model_config(mesa_model_def(dimension))\n",
    "                (model_sm, optimizer_sm, data_generator_sm, train_module_sm) = TrainingInitializer(model_config=model_config_partobs_SM,\n",
    "                                                                                                experiment_config=exp_config_partobs).run()\n",
    "                (model_mesa, optimizer_mesa, data_generator_mesa, train_module_mesa) = TrainingInitializer(model_config=model_config_partobs_Mesa,\n",
    "                                                                                                        experiment_config=exp_config_partobs).run()\n",
    "                # Train Full Softmax Model:\n",
    "                rng = jax.random.PRNGKey(init_training_seed)\n",
    "                rng, test_rng, train_rng = jax.random.split(rng, 3)\n",
    "                state_tf, rng = train_module_sm.get_init_state(rng, interpol_call=False)\n",
    "                for epoch_idx in range(200):\n",
    "                                state_tf, train_rng, _, _, _ = train_module_sm.train_epoch(epoch=epoch_idx,\n",
    "                                                                                        state=state_tf,\n",
    "                                                                                        rng=train_rng,\n",
    "                                                                                        test_rng=test_rng,\n",
    "                                                                                        num_batches_train=100,\n",
    "                                                                                        interpolate=False)\n",
    "                # Train Hybrid-Mesa Model:\n",
    "                rng = jax.random.PRNGKey(init_training_seed)\n",
    "                rng, test_rng, train_rng = jax.random.split(rng, 3)\n",
    "                state_mesa, rng = train_module_mesa.get_init_state(rng, interpol_call=False)\n",
    "                for epoch_idx in range(120):\n",
    "                                state_mesa, train_rng, _, _, _ = train_module_mesa.train_epoch(epoch=epoch_idx,\n",
    "                                                                                                state=state_mesa,\n",
    "                                                                                                rng=train_rng,\n",
    "                                                                                                test_rng=test_rng,\n",
    "                                                                                                num_batches_train=100,\n",
    "                                                                                                interpolate=False)\n",
    "                params_list_sm_partobs.append(state_tf.params)\n",
    "                params_list_mesa_partobs.append(state_mesa.params)\n",
    "                if store_results:\n",
    "                        print(f'Storing model paremeters in path=\\'{path_partobs_all_models}\\'')\n",
    "                        results = {'partobs_models_sm' : params_list_sm_partobs,\n",
    "                                'partobs_models_sm' : params_list_mesa_partobs}\n",
    "                        with open(path_partobs_all_models, 'wb') as handle:\n",
    "                                pkl.dump(results, handle, protocol=pkl.HIGHEST_PROTOCOL)\n",
    "else:\n",
    "        with open(path_partobs_all_models, 'rb') as handle:\n",
    "                params_dict = pkl.load(handle)\n",
    "        params_list_sm_partobs = params_dict['partobs_models_sm']\n",
    "        params_list_mesa_partobs = params_dict['partobs_models_sm']\n",
    "        exp_config_partobs = get_experiment_config(experiment='partobs', seeds=[1, 11, 111, 1111, 11111])\n",
    "        models_sm, states_sm, models_mesa, states_mesa = [],[],[],[]\n",
    "        for i, dim in enumerate([5, 10, 15, 20, 30, 50, 80]):\n",
    "                model_config_partobs_SM = get_model_config(sm_model_def(dim))\n",
    "                model_config_partobs_Mesa = get_model_config(mesa_model_def(dim))\n",
    "                (model_sm, optimizer_sm, data_generator_sm, _) = TrainingInitializer(model_config=model_config_partobs_SM,\n",
    "                                                                experiment_config=exp_config_partobs).run()\n",
    "                (model_mesa, optimizer_mesa, data_generator_mesa, _) = TrainingInitializer(model_config=model_config_partobs_Mesa,\n",
    "                                                                        experiment_config=exp_config_partobs).run()\n",
    "                state_tf = train_state.TrainState.create(apply_fn=model_sm.apply, params=params_list_sm_partobs[i], tx=optimizer_sm)\n",
    "                state_mesa = train_state.TrainState.create(apply_fn=model_mesa.apply, params=params_list_mesa_partobs[i], tx=optimizer_mesa)\n",
    "                models_sm.append(model_sm)\n",
    "                models_mesa.append(model_mesa)\n",
    "                states_sm.append(state_tf)\n",
    "                states_mesa.append(state_mesa)"
   ]
  },
  {
   "cell_type": "code",
   "execution_count": 26,
   "metadata": {},
   "outputs": [],
   "source": [
    "lsq_solver_smart = LeastSquaresSequenceSolver(approximator='chebyshev',\n",
    "                                            seq_len=50,\n",
    "                                            apx_steps=6,\n",
    "                                            lamb=10,\n",
    "                                            alphas=[1.0931315, 3.109863, 3.1626225, 3.0759215, 1.9025781, 0.22242576],\n",
    "                                            betas=[0.0, 0.7379088, 0.18275392, 0.7571611, 1.2497796, 2.2919629 ])\n",
    "lsq_solver_naive = LeastSquaresSequenceSolver(approximator='chebyshev',\n",
    "                                            seq_len=50,\n",
    "                                            apx_steps=6,\n",
    "                                            lamb=10,\n",
    "                                            alphas=[1.0931315, 3.109863, 3.1626225, 3.0759215, 1.9025781, 0.22242576],\n",
    "                                            betas=[0.0, 0.7379088, 0.18275392, 0.7571611, 1.2497796, 2.2919629 ])"
   ]
  },
  {
   "cell_type": "code",
   "execution_count": 27,
   "metadata": {},
   "outputs": [],
   "source": [
    "if rerun_models:\n",
    "    opt_l = lsq_solver_smart.opt_lamb(minv=0.001, \n",
    "                                        maxv=10, \n",
    "                                        steps=25, \n",
    "                                        data_generator=data_generator_sm,\n",
    "                                        loss_fn=_compute_loss,\n",
    "                                        part_obs_constr=True,\n",
    "                                        embed_dim=80)\n",
    "    opt_l_naive = lsq_solver_naive.opt_lamb(minv=0.001, \n",
    "                                        maxv=100, \n",
    "                                        steps=50, \n",
    "                                        data_generator=data_generator_sm,\n",
    "                                        loss_fn=_compute_loss,\n",
    "                                        part_obs_constr=False)"
   ]
  },
  {
   "cell_type": "code",
   "execution_count": 49,
   "metadata": {},
   "outputs": [],
   "source": [
    "model_list = ['transformer', 'mesa-transformer', 'lsq', 'lsq_partobs']\n",
    "loss_fn_seq = lambda p, t : list((jax.numpy.sum(((p - t)**2), axis=(0,2))/(2*p.shape[0])))\n",
    "seq_evaluator = SequencePredictionEvaluator(data_generator=data_generator_sm,\n",
    "                                            test_batch_size=512,\n",
    "                                            seeds=exp_config_partobs.seeds,\n",
    "                                            model_list = model_list,\n",
    "                                            models = [models_sm[-1], models_mesa[-1], lsq_solver_naive, lsq_solver_smart],\n",
    "                                            states = [states_sm[-1], states_mesa[-1], None, 80],\n",
    "                                            loss_fn = loss_fn_seq)\n",
    "\n",
    "if rerun_analyses:\n",
    "    seq_loss_dict_partobs = seq_evaluator.run()\n",
    "    if store_results:\n",
    "        print(f'Storing performance evaluation dict. in path=\\'{path_comparison_partobs}\\'')\n",
    "        with open(path_comparison_partobs, 'wb') as handle:\n",
    "            pkl.dump(seq_loss_dict_partobs, handle, protocol=pkl.HIGHEST_PROTOCOL)\n",
    "else:\n",
    "    with open(path_comparison_partobs, 'rb') as handle:\n",
    "        seq_loss_dict_partobs = pkl.load(handle)"
   ]
  },
  {
   "cell_type": "markdown",
   "metadata": {},
   "source": [
    "## Models trained on fully observable nonlinear dynamical systems:"
   ]
  },
  {
   "cell_type": "code",
   "execution_count": 29,
   "metadata": {},
   "outputs": [],
   "source": [
    "models_nonlin = {'nonlin_seven_sm': 'nonlinear_full_fledged_transformer.6.4.60.50.20.True.False.False.True.300.False.False.0.True.False.False.False',\n",
    "                 'nonlin_mesa':            'fully_obs_full_fledged_mesa.1.4.60.50.20.True.False.False.True.300.False.True.15.True.False.False.False'}"
   ]
  },
  {
   "cell_type": "code",
   "execution_count": 34,
   "metadata": {},
   "outputs": [
    {
     "name": "stdout",
     "output_type": "stream",
     "text": [
      "model:  nonlinear_full_fledged_transformer  layers: 6  heads:  4  embed_dim:  60  seq_len:  50  key_size:  20  pe_kq:  True  pe_emb:  False  laynorm:  False  mlp:  True  dim_mlp:  300  linear:  False  clip:  False  clip_val:  0\n"
     ]
    }
   ],
   "source": [
    "exp_config_nonlin = get_experiment_config('nonlin', seeds=[1,11,111,1111,11111])\n",
    "model_config = get_model_config(models_nonlin['nonlin_seven_sm'])\n",
    "(model_tf_nonlin, optimizer, data_generator_nonlin, train_module) = TrainingInitializer(model_config=model_config, \n",
    "                                                                                        experiment_config=exp_config_nonlin).run()\n",
    "if rerun_models:\n",
    "    training_seed = 1\n",
    "    rng = jax.random.PRNGKey(training_seed)\n",
    "    rng, test_rng, train_rng = jax.random.split(rng, 3)\n",
    "    state_tf_nonlin, rng = train_module.get_init_state(rng, interpol_call=False)\n",
    "    for epoch_idx in range(400):\n",
    "        state_tf_nonlin, train_rng, _, _, _ = train_module.train_epoch(epoch=epoch_idx,\n",
    "                                                                        state=state_tf_nonlin,\n",
    "                                                                        rng=train_rng,\n",
    "                                                                        test_rng=test_rng,\n",
    "                                                                        num_batches_train=100,\n",
    "                                                                        interpolate=False)\n",
    "    if store_results:\n",
    "        print(f'Storing results in path=\\'{path_model_nonlin_7}\\'')\n",
    "        a = {'params' : state_tf_nonlin.params}\n",
    "        with open(path_model_nonlin_7, 'wb') as handle:\n",
    "            pkl.dump(a, handle, protocol=pkl.HIGHEST_PROTOCOL)\n",
    "else:\n",
    "    with open(path_model_nonlin_7, 'rb') as handle:\n",
    "        a = pkl.load(handle)\n",
    "    state_tf_nonlin = train_state.TrainState.create(apply_fn=model_tf_nonlin.apply, params=a['params'], tx=optimizer)"
   ]
  },
  {
   "cell_type": "code",
   "execution_count": 35,
   "metadata": {},
   "outputs": [
    {
     "name": "stdout",
     "output_type": "stream",
     "text": [
      "model:  fully_obs_full_fledged_mesa  layers: 1  heads:  4  embed_dim:  60  seq_len:  50  key_size:  20  pe_kq:  True  pe_emb:  False  laynorm:  False  mlp:  True  dim_mlp:  300  linear:  False  clip:  True  clip_val:  15\n"
     ]
    }
   ],
   "source": [
    "(model_mesa_nonlin, optimizer, data_generator_nonlin, train_module) = TrainingInitializer(model_config=get_model_config(models_nonlin['nonlin_mesa']), \n",
    "                                                                       experiment_config=exp_config_nonlin).run()\n",
    "if rerun_models:\n",
    "    training_seed = 1\n",
    "    rng = jax.random.PRNGKey(training_seed)\n",
    "    rng, test_rng, train_rng = jax.random.split(rng, 3)\n",
    "    state_mesa_nonlin, rng = train_module.get_init_state(rng, interpol_call=False)\n",
    "    for epoch_idx in range(400):\n",
    "                        state_mesa_nonlin, train_rng, _, _, _ = train_module.train_epoch(epoch=epoch_idx,\n",
    "                                                                                        state=state_mesa_nonlin,\n",
    "                                                                                        rng=train_rng,\n",
    "                                                                                        test_rng=test_rng,\n",
    "                                                                                        num_batches_train=100,\n",
    "                                                                                        interpolate=False)\n",
    "    if store_results:\n",
    "        print(f'Storing results in path=\\'{path_model_nonlin_mesa}\\'')\n",
    "        a = {'params' : state_mesa_nonlin.params}\n",
    "        with open(path_model_nonlin_mesa, 'wb') as handle:\n",
    "            pkl.dump(a, handle, protocol=pkl.HIGHEST_PROTOCOL)\n",
    "else:\n",
    "    with open(path_model_nonlin_mesa, 'rb') as handle:\n",
    "        a = pkl.load(handle)\n",
    "    state_mesa_nonlin = train_state.TrainState.create(apply_fn=model_mesa_nonlin.apply, params=a['params'], tx=optimizer)"
   ]
  },
  {
   "cell_type": "code",
   "execution_count": 36,
   "metadata": {},
   "outputs": [],
   "source": [
    "loss_fn_seq = lambda p, t : list((jax.numpy.sum(((p - t)**2), axis=(0,2))/(2*p.shape[0])))\n",
    "\n",
    "lsq_solver_smart = LeastSquaresSequenceSolver(approximator='chebyshev',\n",
    "                                              seq_len=50,\n",
    "                                              apx_steps=6,\n",
    "                                              lamb=0.001,\n",
    "                                              use_mlp=True,\n",
    "                                              mlp_fn=data_generator_nonlin._mini_mlp,\n",
    "                                              alphas=[1.0030721, 4.0157757, 3.866156, 3.3217084, 2.7570639, 2.1692858],\n",
    "                                              betas=[0.0, 0.56304085, 0.566149, 0.9348311, 1.5603266, 2.425832])\n",
    "lsq_solver_naive = LeastSquaresSequenceSolver(approximator='chebyshev',\n",
    "                                              seq_len=50,\n",
    "                                              apx_steps=6,\n",
    "                                              lamb=0.001,\n",
    "                                              use_mlp=False,\n",
    "                                              mlp_fn=None,\n",
    "                                              alphas=[1.0030721, 4.0157757, 3.866156, 3.3217084, 2.7570639, 2.1692858],\n",
    "                                              betas=[0.0, 0.56304085, 0.566149, 0.9348311, 1.5603266, 2.425832])\n",
    "if rerun_models:\n",
    "    opt_l = lsq_solver_smart.opt_lamb(minv=0.001, \n",
    "                                        maxv=1, \n",
    "                                        steps=25, \n",
    "                                        data_generator=data_generator_nonlin,\n",
    "                                        loss_fn=_compute_loss,\n",
    "                                        part_obs_constr=False)\n",
    "    opt_l_naive = lsq_solver_naive.opt_lamb(minv=0.001, \n",
    "                                        maxv=1, \n",
    "                                        steps=25, \n",
    "                                        data_generator=data_generator_nonlin,\n",
    "                                        loss_fn=_compute_loss,\n",
    "                                        part_obs_constr=False)"
   ]
  },
  {
   "cell_type": "code",
   "execution_count": 50,
   "metadata": {},
   "outputs": [],
   "source": [
    "model_list = ['transformer', 'mesa-transformer', 'lsq', 'lsq_mlp']\n",
    "seq_evaluator = SequencePredictionEvaluator(data_generator=data_generator_nonlin,\n",
    "                                            test_batch_size=512,\n",
    "                                            seeds=exp_config_partobs.seeds,\n",
    "                                            model_list = model_list,\n",
    "                                            models = [model_tf_nonlin, model_mesa_nonlin, lsq_solver_naive, lsq_solver_smart],\n",
    "                                            states = [state_tf_nonlin, state_mesa_nonlin, None, data_generator_nonlin._mini_mlp],\n",
    "                                            loss_fn = loss_fn_seq)\n",
    "\n",
    "if rerun_analyses:\n",
    "    seq_loss_dict_nonlin = seq_evaluator.run()\n",
    "    if store_results:\n",
    "        print(f'Storing performance evaluation dict. in path=\\'{path_comparison_nonlin}\\'')\n",
    "        with open(path_comparison_nonlin, 'wb') as handle:\n",
    "            pkl.dump(seq_loss_dict_nonlin, handle, protocol=pkl.HIGHEST_PROTOCOL)\n",
    "else:\n",
    "    with open(path_comparison_nonlin, 'rb') as handle:\n",
    "        seq_loss_dict_nonlin = pkl.load(handle)"
   ]
  },
  {
   "cell_type": "markdown",
   "metadata": {},
   "source": [
    "## Visualization of Results:"
   ]
  },
  {
   "cell_type": "code",
   "execution_count": 51,
   "metadata": {},
   "outputs": [
    {
     "data": {
      "image/png": "[encoded data removed]",
      "text/plain": [
       "<Figure size 720x288 with 3 Axes>"
      ]
     },
     "metadata": {
      "needs_background": "light"
     },
     "output_type": "display_data"
    }
   ],
   "source": [
    "legend_fontsize = 'small'\n",
    "\n",
    "def subplot_perf(ax,\n",
    "                 seq_loss_dict: Dict[str, any],\n",
    "                 model_list: List[str],\n",
    "                 cols: List):\n",
    "    loss_list = seq_loss_dict['losses']\n",
    "    loss_arr = jnp.array(loss_list)\n",
    "    mean_losses = tuple([jnp.mean(loss_arr[idx],axis=0) for idx in range(len(model_list))]) \n",
    "    std_losses = tuple([jnp.std(loss_arr[idx],axis=0) for idx in range(len(model_list))])\n",
    "    for idx in range(len(model_list)):\n",
    "        if model_list[idx] in ['Transformer-$12$', 'Proposition-$2$-linear-12']: # Quick fix\n",
    "            continue\n",
    "        ax.plot(mean_losses[idx], linewidth=2, label=model_list[idx], color=cols[idx])\n",
    "        ax.fill_between(range(len(mean_losses[0])),\n",
    "                        (mean_losses[idx] - std_losses[idx]),\n",
    "                        (mean_losses[idx] - std_losses[idx]),\n",
    "                        alpha=0.3,\n",
    "                        facecolor=cols[idx])\n",
    "    ax.tick_params(axis='x', colors='dimgray')\n",
    "    ax.tick_params(axis='y', colors='dimgray')\n",
    "    ax.spines['right'].set_visible(False)\n",
    "    ax.spines['top'].set_visible(False)\n",
    "    ax.spines['bottom'].set_color('dimgray')\n",
    "    ax.spines['left'].set_color('dimgray')\n",
    "    ax.set_xlabel('Sequence length $t$')\n",
    "    ax.set_ylabel('Next token prediction MSE')\n",
    "    ax.set_xlim(0,50)\n",
    "    ax.set_ylim(0,)\n",
    "    ax.set_xticks([0,19,39],[1,20,40])\n",
    "\n",
    "def plot_comparison(seq_loss_dict_fully: Dict[str, any],\n",
    "                    seq_loss_dict_part: Dict[str, any],\n",
    "                    seq_loss_dict_nonlin: Dict[str, any],\n",
    "                    model_list_full: List[str],\n",
    "                    model_list_part: List[str],\n",
    "                    model_list_nonlin: List[str]):\n",
    "\n",
    "    plt.rcParams.update({'font.size': 15})\n",
    "    plt.rc('axes', labelsize=17)\n",
    "    plt.rcParams.update({\n",
    "        \"text.usetex\": False,\n",
    "    })\n",
    "\n",
    "    colormap_sm = plt.get_cmap('Blues', 100)\n",
    "\n",
    "    c_tf = colormap_sm(60)\n",
    "    c_tf12 = colormap_sm(90)\n",
    "    c_lsq = plt.get_cmap('YlOrBr', 100)(36)\n",
    "    c_lsq12 = plt.get_cmap('YlOrBr', 100)(56)\n",
    "    c_lsq_smart = plt.get_cmap('GnBu', 100)(40)\n",
    "    c_mesa = plt.get_cmap('Reds', 100)(70)\n",
    "\n",
    "    cols_p_full = [c_tf, c_tf12, c_mesa, c_lsq, c_lsq12]\n",
    "    cols_p_part = [c_tf, c_mesa, c_lsq, c_lsq_smart]\n",
    "    cols_p_nonlin = [c_tf, c_mesa, c_lsq, c_lsq_smart]\n",
    "\n",
    "    fig, axs = plt.subplots(nrows=1,\n",
    "                            ncols=3,\n",
    "                            figsize=(10, 4),\n",
    "                            gridspec_kw={'width_ratios': [1,1,1]},\n",
    "                            layout='constrained')\n",
    "\n",
    "    ################################################\n",
    "    # Performance - Analyses:\n",
    "    subplot_perf(ax=axs[0],\n",
    "                 seq_loss_dict=seq_loss_dict_fully,\n",
    "                 model_list=model_list_full,\n",
    "                 cols=cols_p_full)\n",
    "    axs[0].set_ylim(0,0.1)\n",
    "\n",
    "    ################################################\n",
    "    # Performance - Analyses:\n",
    "    subplot_perf(ax=axs[1],\n",
    "                 seq_loss_dict=seq_loss_dict_part,\n",
    "                 model_list=model_list_part,\n",
    "                 cols=cols_p_part)\n",
    "\n",
    "    ################################################\n",
    "    # Performance - Analyses:\n",
    "    subplot_perf(ax=axs[2],\n",
    "                 seq_loss_dict=seq_loss_dict_nonlin,\n",
    "                 model_list=model_list_nonlin,\n",
    "                 cols=cols_p_nonlin)\n",
    "    axs[2].set_ylim(0,0.1)\n",
    "    \n",
    "    ################################################\n",
    "    # Legend:\n",
    "    handles, labels = axs[1].get_legend_handles_labels()\n",
    "    l5 = fig.legend(handles, labels, bbox_to_anchor=(0.5, 0), loc=\"upper center\",\n",
    "                    bbox_transform=fig.transFigure, ncol=4, fontsize=legend_fontsize,\n",
    "                    frameon=True)\n",
    "    ################################################\n",
    "    label_size = 34\n",
    "    axs[0].text(-0.25, 1.27, 'A', transform=axs[0].transAxes, fontsize=label_size, va='top')\n",
    "    axs[1].text(-0.25, 1.27, 'B', transform=axs[1].transAxes, fontsize=label_size, va='top')\n",
    "    axs[2].text(-0.25, 1.27, 'C', transform=axs[2].transAxes, fontsize=label_size, va='top')\n",
    "\n",
    "    if store_results:\n",
    "        fig.savefig('model_comparisons.pdf', bbox_inches='tight', pad_inches=0.1)\n",
    "        \n",
    "    plt.show()\n",
    "\n",
    "plot_comparison(seq_loss_dict_fully = seq_loss_dict_fully,\n",
    "                seq_loss_dict_part = seq_loss_dict_partobs,\n",
    "                seq_loss_dict_nonlin = seq_loss_dict_nonlin,\n",
    "                model_list_full = ['Transformer-$7$', 'Transformer-$12$', 'Hybrid-mesa', 'Proposition-$2$-linear-7', 'Proposition-$2$-linear-12'],\n",
    "                model_list_part = ['Transformer-$7$', 'Hybrid-mesa', 'Proposition-$2$-linear', 'Proposition-$2$-nonlinear'],\n",
    "                model_list_nonlin = ['Transformer-$7$', 'Hybrid-mesa', 'Proposition-$2$-linear', 'Proposition-$2$-nonlinear'])"
   ]
  }
 ],
 "metadata": {
  "kernelspec": {
   "display_name": "Python 3",
   "language": "python",
   "name": "python3"
  },
  "language_info": {
   "codemirror_mode": {
    "name": "ipython",
    "version": 3
   },
   "file_extension": ".py",
   "mimetype": "text/x-python",
   "name": "python",
   "nbconvert_exporter": "python",
   "pygments_lexer": "ipython3",
   "version": "3.9.10"
  }
 },
 "nbformat": 4,
 "nbformat_minor": 2
}
