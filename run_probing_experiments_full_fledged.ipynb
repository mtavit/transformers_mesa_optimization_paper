{
 "cells": [
  {
   "cell_type": "markdown",
   "metadata": {},
   "source": [
    "# Probing Experiments"
   ]
  },
  {
   "cell_type": "markdown",
   "metadata": {},
   "source": [
    "### Setup:"
   ]
  },
  {
   "cell_type": "markdown",
   "metadata": {},
   "source": [
    "**Imports, Paths, GPU-Settings and Flags:**"
   ]
  },
  {
   "cell_type": "code",
   "execution_count": 2,
   "metadata": {},
   "outputs": [],
   "source": [
    "import os\n",
    "import jax\n",
    "import pickle as pkl\n",
    "import jax.numpy as jnp\n",
    "import matplotlib.pyplot as plt\n",
    "from flax.training import train_state\n",
    "from typing import Dict, List\n",
    "from matplotlib import cm, colors\n",
    "\n",
    "from configs.config import get_experiment_config, get_model_config\n",
    "from src.models.auxiliary_models import batched_chebyshev\n",
    "from src.training_init import TrainingInitializer\n",
    "from src.util.probings.probe_layers import ProbeLayers\n",
    "from src.models.auxiliary_models import LeastSquaresSequenceSolver\n",
    "from src.util.sequence_performance.sequenceloss_eval import SequencePredictionEvaluator\n",
    "from src.models.auxiliary_models import learn_parameters_chebyshev"
   ]
  },
  {
   "cell_type": "code",
   "execution_count": 20,
   "metadata": {},
   "outputs": [
    {
     "name": "stdout",
     "output_type": "stream",
     "text": [
      "Running on Devices: [CpuDevice(id=0)],\n",
      "Re-Run Analysis: False, \n",
      "Re-Run Models: False, \n",
      "Store Results: False\n"
     ]
    }
   ],
   "source": [
    "os.environ['CUDA_VISIBLE_DEVICES'] = '0'\n",
    "devices = jax.devices()\n",
    "\n",
    "rerun_models = False\n",
    "rerun_analyses = False\n",
    "store_results = False\n",
    "path_chebyshev = 'experiment_results/linear_seq_fully/cheb_params.pkl'\n",
    "\n",
    "path_model_fully_7 = 'experiment_results/linear_seq_fully/model_sm_7l_fullfledged.pkl'\n",
    "path_model_fully_3 = 'experiment_results/linear_seq_fully/model_sm_3l_fullfledged.pkl'\n",
    "path_model_partobs_7 = 'experiment_results/linear_seq_partial/model_sm_7l_fullfledged.pkl'\n",
    "path_model_nonlin_7 = 'experiment_results/nonlinear_seq_fully/model_sm_7l_fullfledged.pkl'\n",
    "\n",
    "path_probing_fully = 'experiment_results/linear_seq_fully/probing_results_sm_7l.pkl'\n",
    "path_probing_partobs = 'experiment_results/linear_seq_partial/probing_results_sm_7l.pkl'\n",
    "path_probing_nonlin = 'experiment_results/nonlinear_seq_fully/probing_results_sm_7l.pkl'\n",
    "\n",
    "path_seqperf_fully = 'experiment_results/linear_seq_fully/seqperf_results_sm_probing.pkl'\n",
    "path_seqperf_partobs = 'experiment_results/linear_seq_partial/seqperf_results_sm_probing.pkl'\n",
    "path_seqperf_nonlin = 'experiment_results/nonlinear_seq_fully/seqperf_results_sm_probing.pkl'\n",
    "\n",
    "print(f'Running on Devices: {devices},\\nRe-Run Analysis: {rerun_analyses}, \\nRe-Run Models: {rerun_models}, \\nStore Results: {store_results}')"
   ]
  },
  {
   "cell_type": "markdown",
   "metadata": {},
   "source": [
    "**Define Models:**"
   ]
  },
  {
   "cell_type": "markdown",
   "metadata": {},
   "source": [
    "<font color='grey'>Arguments for Model-Config, Seperated by '.':</font> <br>\n",
    "    - model: Defines Model Type (fixed settings for all other fields). See config.py file for further information.<br>\n",
    "    - layers: No. of layers in the Transformer. For certain model types (such as those used here), we have layers = 'True' model-layers - 1, as we add another special layer which incorporates the PE-logic in the attention. Thus, a six-layer model is actually seven layers deep. A layer comprises of the multi-head attention mechanism as well as potentially various types of (Layer-) Normalization mechanisms, MLPs and standard residual connections.<br>\n",
    "    - heads: No. of attention heads.<br>\n",
    "    - embed_dim: Dimension of embeddings used for computations in the Transformer. <br>\n",
    "    - seq_len: Length of input sequence lengths.<br>\n",
    "    - key_size: Key-size per head in attention. <br>\n",
    "    - pe_kq: Use Positional encodings in keys/queries in special first layer instead of adding them to the residual stream.<br>\n",
    "    - pe_emb: Use standard Positional encodings, added to the residual stream before the first Transformer layer. <br>\n",
    "    - laynorm: Use standard Layer-Normalization in each Transformer layer.<br>\n",
    "    - mlp: Use standard MLP in Transformer layers. Activation function is GeLu (jax.nn.gelu).<br>\n",
    "    - dim_mlp: Dimension of hidden MLP layers.<br>\n",
    "    - linear: Use linear self-attention.<br>\n",
    "    - clip: Use forward-pass activation clipping (of the residual stream).<br>\n",
    "    - clip_val: Clipping bandwidth (i.e. x <- Clip(x, min=-clip_val, max=clip_val)). <br>\n",
    "    - schlagnorm: Use 'Schlag-Normalization' as proposed by Schlag, 2021: Separate Normalization of query and key projections in the attention-mechanism.<br>\n",
    "    - schlagnorm_t: Also normalize value projections.<br>\n",
    "    - schlagnorm_hyb: Use Schlag-Norm in the first layer.<br>\n",
    "    - schlagnorm_t_hyb: Also normalize value projections in the first layer.<br>"
   ]
  },
  {
   "cell_type": "code",
   "execution_count": 6,
   "metadata": {},
   "outputs": [],
   "source": [
    "models = {'full_seven_sm':      'fully_obs_full_fledged_transformer.6.4.40.50.20.True.False.False.False.0.False.False.0.False.False.False.False',\n",
    "          'full_three_sm':      'fully_obs_full_fledged_transformer.2.4.40.50.20.True.False.False.False.0.False.False.0.False.False.False.False',\n",
    "          'full_mesa':          'fully_obs_full_fledged_mesa.1.4.40.50.20.True.False.False.False.0.False.True.1.False.False.False.False',\n",
    "          'just_mesa':          'just_mesa.1.4.40.50.20.True.False.False.False.0.False.True.1.False.False.False.False',\n",
    "          'partobs_seven_sm':   'part_obs_full_fledged_transformer.6.12.80.50.20.True.False.False.False.0.False.False.0.False.False.False.False',\n",
    "          'partobs_mesa':       'part_obs_full_fledged_mesa.1.12.80.50.20.True.False.False.False.0.False.True.1.False.False.False.False',\n",
    "          'nonlin_seven_sm':    'nonlinear_full_fledged_transformer.6.4.60.50.20.True.False.False.True.300.False.False.0.True.False.False.False',\n",
    "          'nonlin_mesa':        'fully_obs_full_fledged_mesa.1.4.60.50.20.True.False.False.True.300.False.True.15.True.False.False.False'}"
   ]
  },
  {
   "cell_type": "markdown",
   "metadata": {},
   "source": [
    "## Training models:"
   ]
  },
  {
   "cell_type": "markdown",
   "metadata": {},
   "source": [
    "### Training on fully observable linear dynamical systems:"
   ]
  },
  {
   "cell_type": "code",
   "execution_count": 10,
   "metadata": {},
   "outputs": [
    {
     "name": "stdout",
     "output_type": "stream",
     "text": [
      "model:  fully_obs_full_fledged_transformer  layers: 6  heads:  4  embed_dim:  40  seq_len:  50  key_size:  20  pe_kq:  True  pe_emb:  False  laynorm:  False  mlp:  False  dim_mlp:  0  linear:  False  clip:  False  clip_val:  0\n",
      "model:  fully_obs_full_fledged_transformer  layers: 2  heads:  4  embed_dim:  40  seq_len:  50  key_size:  20  pe_kq:  True  pe_emb:  False  laynorm:  False  mlp:  False  dim_mlp:  0  linear:  False  clip:  False  clip_val:  0\n"
     ]
    }
   ],
   "source": [
    "exp_config_probing_fully = get_experiment_config(experiment='probing_full', seeds=[1, 11, 111, 1111, 11111])\n",
    "(model_f7, optimizer_f7, data_generator_f7, train_module_f7) = TrainingInitializer(model_config=get_model_config(models['full_seven_sm']), \n",
    "                                                                                   experiment_config=exp_config_probing_fully).run()\n",
    "(model_f3, optimizer_f3, data_generator_f3, train_module_f3) = TrainingInitializer(model_config=get_model_config(models['full_three_sm']), \n",
    "                                                                                   experiment_config=exp_config_probing_fully).run()\n",
    "training_seed = 11111\n",
    "rng = jax.random.PRNGKey(training_seed)\n",
    "rng, test_rng, train_rng = jax.random.split(rng, 3)\n",
    "if rerun_models:\n",
    "    state_tf_fully_7, rng = train_module_f7.get_init_state(rng, interpol_call=False)\n",
    "    for epoch_idx in range(100):\n",
    "        state_tf_fully_7, train_rng, _, _, _ = train_module_f7.train_epoch(epoch=epoch_idx,\n",
    "                                                                           state=state_tf_fully_7,\n",
    "                                                                           rng=train_rng,\n",
    "                                                                           test_rng=test_rng,\n",
    "                                                                           num_batches_train=100,\n",
    "                                                                           interpolate=False)\n",
    "    rng = jax.random.PRNGKey(training_seed)\n",
    "    rng, test_rng, train_rng = jax.random.split(rng, 3)\n",
    "    state_tf_fully_3, rng = train_module_f3.get_init_state(rng, interpol_call=False)\n",
    "    for epoch_idx in range(100):\n",
    "        state_tf_fully_3, train_rng, _, _, _ = train_module_f3.train_epoch(epoch=epoch_idx,\n",
    "                                                                           state=state_tf_fully_3,\n",
    "                                                                           rng=train_rng,\n",
    "                                                                           test_rng=test_rng,\n",
    "                                                                           num_batches_train=100,\n",
    "                                                                           interpolate=False)\n",
    "    if store_results:\n",
    "        print(f'Storing results in path=\\'{path_model_fully_7}\\'')\n",
    "        with open(path_model_fully_7, 'wb') as handle:\n",
    "            pkl.dump({'params':state_tf_fully_7.params}, handle, protocol=pkl.HIGHEST_PROTOCOL)\n",
    "        print(f'Storing results in path=\\'{path_model_fully_3}\\'')\n",
    "        with open(path_model_fully_3, 'wb') as handle:\n",
    "            pkl.dump({'params':state_tf_fully_3.params}, handle, protocol=pkl.HIGHEST_PROTOCOL)\n",
    "else:\n",
    "    with open(path_model_fully_7, 'rb') as handle:\n",
    "        params_dict_f7 = pkl.load(handle)\n",
    "    with open(path_model_fully_3, 'rb') as handle:\n",
    "        params_dict_f3 = pkl.load(handle)\n",
    "    state_tf_fully_7 = train_state.TrainState.create(apply_fn=model_f7.apply, params=params_dict_f7['params'], tx=optimizer_f7)\n",
    "    state_tf_fully_3 = train_state.TrainState.create(apply_fn=model_f3.apply, params=params_dict_f3['params'], tx=optimizer_f3)"
   ]
  },
  {
   "cell_type": "markdown",
   "metadata": {},
   "source": [
    "### Training on partially observable linear dynamical systems:"
   ]
  },
  {
   "cell_type": "code",
   "execution_count": 11,
   "metadata": {},
   "outputs": [
    {
     "name": "stdout",
     "output_type": "stream",
     "text": [
      "model:  part_obs_full_fledged_transformer  layers: 6  heads:  12  embed_dim:  80  seq_len:  50  key_size:  20  pe_kq:  True  pe_emb:  False  laynorm:  False  mlp:  False  dim_mlp:  0  linear:  False  clip:  False  clip_val:  0\n"
     ]
    }
   ],
   "source": [
    "exp_config_probing_partobs = get_experiment_config(experiment='partobs', seeds=[1, 11, 111, 1111, 11111])\n",
    "(model_p7, optimizer_p7, data_generator_p7, train_module_p7) = TrainingInitializer(model_config=get_model_config(models['partobs_seven_sm']), \n",
    "                                                                                   experiment_config=exp_config_probing_partobs).run()\n",
    "training_seed = 42\n",
    "rng = jax.random.PRNGKey(training_seed)\n",
    "rng, test_rng, train_rng = jax.random.split(rng, 3)\n",
    "if rerun_models:\n",
    "    state_tf_partobs_7, rng = train_module_p7.get_init_state(rng, interpol_call=False)\n",
    "    for epoch_idx in range(200):\n",
    "        state_tf_partobs_7, train_rng, _, _, _ = train_module_p7.train_epoch(epoch=epoch_idx,\n",
    "                                                                             state=state_tf_partobs_7,\n",
    "                                                                             rng=train_rng,\n",
    "                                                                             test_rng=test_rng,\n",
    "                                                                             num_batches_train=100,\n",
    "                                                                             interpolate=False)\n",
    "    if store_results:\n",
    "        print(f'Storing results in path=\\'{path_model_partobs_7}\\'')\n",
    "        with open(path_model_partobs_7, 'wb') as handle:\n",
    "            pkl.dump({'params':state_tf_partobs_7.params}, handle, protocol=pkl.HIGHEST_PROTOCOL)\n",
    "else:\n",
    "    with open(path_model_partobs_7, 'rb') as handle:\n",
    "        params_dict_p7 = pkl.load(handle)\n",
    "    state_tf_partobs_7 = train_state.TrainState.create(apply_fn=model_p7.apply, params=params_dict_p7['params'], tx=optimizer_p7)"
   ]
  },
  {
   "cell_type": "markdown",
   "metadata": {},
   "source": [
    "### Training on fully observable nonlinear dynamical systems:"
   ]
  },
  {
   "cell_type": "code",
   "execution_count": 13,
   "metadata": {},
   "outputs": [
    {
     "name": "stdout",
     "output_type": "stream",
     "text": [
      "model:  nonlinear_full_fledged_transformer  layers: 6  heads:  4  embed_dim:  60  seq_len:  50  key_size:  20  pe_kq:  True  pe_emb:  False  laynorm:  False  mlp:  True  dim_mlp:  300  linear:  False  clip:  False  clip_val:  0\n"
     ]
    }
   ],
   "source": [
    "exp_config_probing_nonlin = get_experiment_config(experiment='nonlin', seeds=[1, 11, 111, 1111, 11111])\n",
    "(model_n7, optimizer_n7, data_generator_n7, train_module_n7) = TrainingInitializer(model_config=get_model_config(models['nonlin_seven_sm']), \n",
    "                                                                                   experiment_config=exp_config_probing_nonlin).run()\n",
    "training_seed = 42\n",
    "rng = jax.random.PRNGKey(training_seed)\n",
    "rng, test_rng, train_rng = jax.random.split(rng, 3)\n",
    "if rerun_models:\n",
    "    state_tf_nonlin_7, rng = train_module_n7.get_init_state(rng, interpol_call=False)\n",
    "    for epoch_idx in range(200):\n",
    "        state_tf_nonlin_7, train_rng, _, _, _ = train_module_n7.train_epoch(epoch=epoch_idx,\n",
    "                                                                             state=state_tf_nonlin_7,\n",
    "                                                                             rng=train_rng,\n",
    "                                                                             test_rng=test_rng,\n",
    "                                                                             num_batches_train=100,\n",
    "                                                                             interpolate=False)\n",
    "    if store_results:\n",
    "        print(f'Storing results in path=\\'{path_model_nonlin_7}\\'')\n",
    "        with open(path_model_nonlin_7, 'wb') as handle:\n",
    "            pkl.dump({'params':state_tf_nonlin_7.params}, handle, protocol=pkl.HIGHEST_PROTOCOL)\n",
    "else:\n",
    "    with open(path_model_nonlin_7, 'rb') as handle:\n",
    "        params_dict_n7 = pkl.load(handle)\n",
    "    state_tf_nonlin_7 = train_state.TrainState.create(apply_fn=model_n7.apply, params=params_dict_n7['params'], tx=optimizer_n7)"
   ]
  },
  {
   "cell_type": "markdown",
   "metadata": {},
   "source": [
    "## Probing analyses:"
   ]
  },
  {
   "cell_type": "markdown",
   "metadata": {},
   "source": [
    "### Probing:"
   ]
  },
  {
   "cell_type": "code",
   "execution_count": 18,
   "metadata": {},
   "outputs": [],
   "source": [
    "if rerun_models:\n",
    "    alphas7_f, betas7_f = learn_parameters_chebyshev(num_steps=6, train_len=20000, experiment_config=exp_config_probing_fully,\n",
    "                                                     data_generator=data_generator_f7)\n",
    "    alphas3_f, betas3_f = learn_parameters_chebyshev(num_steps=2, train_len=80000, experiment_config=exp_config_probing_fully,\n",
    "                                                     data_generator=data_generator_f7)\n",
    "    alphas7_p, betas7_p = learn_parameters_chebyshev(num_steps=6, train_len=20000, experiment_config=exp_config_probing_partobs,\n",
    "                                                     data_generator=data_generator_p7, part_obs_constr=True, part_obs_embed_dim=80)\n",
    "    alphas7_n, betas7_n = learn_parameters_chebyshev(num_steps=6, train_len=20000, experiment_config=exp_config_probing_nonlin,\n",
    "                                                     data_generator=data_generator_n7, use_mlp=True)\n",
    "    if store_results:\n",
    "        with open(path_chebyshev, 'wb') as handle:\n",
    "            pkl.dump({'alphas':[alphas7_f, alphas3_f, alphas7_p, alphas7_n],\n",
    "                        'betas':[betas7_f, betas3_f, betas7_p, betas7_n]}, handle, protocol=pkl.HIGHEST_PROTOCOL)\n",
    "        print(f'Storing chebyshev-parameters in {path_chebyshev}')\n",
    "else:\n",
    "    with open(path_chebyshev, 'rb') as handle:\n",
    "        cheb_dict = pkl.load(handle)\n",
    "    alphas7_f, alphas3_f, alphas7_p, alphas7_n = tuple(cheb_dict['alphas'])\n",
    "    betas7_f, betas3_f, betas7_p, betas7_n = tuple(cheb_dict['betas'])"
   ]
  },
  {
   "cell_type": "code",
   "execution_count": 21,
   "metadata": {},
   "outputs": [],
   "source": [
    "if rerun_analyses:\n",
    "    probes_list = ['curr_probe', 'next_probe', 'inverse_curr_probe', 'control_probe']\n",
    "    probe_dict_fully = ProbeLayers(experiment_config=exp_config_probing_fully,\n",
    "                                   data_generator=data_generator_f7,\n",
    "                                   model_tf=model_f7,\n",
    "                                   state_tf=state_tf_fully_7,\n",
    "                                   probes_list=probes_list,\n",
    "                                   inv_fn=batched_chebyshev(alphas=alphas7_f,\n",
    "                                                             betas=betas7_f, \n",
    "                                                             steps=6)).run()\n",
    "    probe_dict_partobs = ProbeLayers(experiment_config=exp_config_probing_partobs,\n",
    "                                     data_generator=data_generator_p7,\n",
    "                                     model_tf=model_p7,\n",
    "                                     state_tf=state_tf_partobs_7,\n",
    "                                     probes_list=probes_list,\n",
    "                                     inv_fn=batched_chebyshev(alphas=alphas7_p,\n",
    "                                                              betas=betas7_p, \n",
    "                                                              steps=6)).run()\n",
    "    probe_dict_nonlin = ProbeLayers(experiment_config=exp_config_probing_nonlin,\n",
    "                                    data_generator=data_generator_n7,\n",
    "                                    model_tf=model_n7,\n",
    "                                    state_tf=state_tf_nonlin_7,\n",
    "                                    probes_list=probes_list,\n",
    "                                    inv_fn=batched_chebyshev(alphas=alphas7_n,\n",
    "                                                             betas=betas7_n, \n",
    "                                                             steps=6)).run()\n",
    "    if store_results:\n",
    "        for path, probe_dict in zip ([path_probing_fully, \n",
    "                                      path_probing_partobs, \n",
    "                                      path_probing_nonlin], \n",
    "                                     [probe_dict_fully, \n",
    "                                      probe_dict_partobs, \n",
    "                                      probe_dict_nonlin]):\n",
    "            print(f'Storing results in path=\\'{path}\\'')\n",
    "            with open(path, 'wb') as handle:\n",
    "                pkl.dump(probe_dict, handle, protocol=pkl.HIGHEST_PROTOCOL)\n",
    "else:\n",
    "    with open(path_probing_fully, 'rb') as handle:\n",
    "        result_dict_fully = pkl.load(handle)\n",
    "    with open(path_probing_partobs, 'rb') as handle:\n",
    "        result_dict_partobs = pkl.load(handle)\n",
    "    with open(path_probing_nonlin, 'rb') as handle:\n",
    "        result_dict_nonlin = pkl.load(handle)"
   ]
  },
  {
   "cell_type": "markdown",
   "metadata": {},
   "source": [
    "### Performance Comparison:"
   ]
  },
  {
   "cell_type": "code",
   "execution_count": 22,
   "metadata": {},
   "outputs": [],
   "source": [
    "approximator = 'chebyshev'\n",
    "lamb = 0.001\n",
    "apx_steps = 6\n",
    "seq_len = 50\n",
    "\n",
    "lsq_solver_7_f = LeastSquaresSequenceSolver(approximator=approximator, \n",
    "                                            seq_len=seq_len,\n",
    "                                            apx_steps=apx_steps,\n",
    "                                            lamb=lamb,\n",
    "                                            alphas=alphas7_f,\n",
    "                                            betas=betas7_f)\n",
    "lsq_solver_3_f = LeastSquaresSequenceSolver(approximator=approximator,\n",
    "                                            seq_len=seq_len,\n",
    "                                            apx_steps=2,\n",
    "                                            lamb=lamb,\n",
    "                                            alphas=alphas3_f,\n",
    "                                            betas=betas3_f)\n",
    "lsq_solver_7_p = LeastSquaresSequenceSolver(approximator=approximator, \n",
    "                                            seq_len=seq_len,\n",
    "                                            apx_steps=apx_steps,\n",
    "                                            lamb=10,\n",
    "                                            alphas=alphas7_p,\n",
    "                                            betas=betas7_p)\n",
    "lsq_solver_7_n = LeastSquaresSequenceSolver(approximator=approximator, \n",
    "                                            seq_len=seq_len,\n",
    "                                            apx_steps=apx_steps,\n",
    "                                            lamb=lamb,\n",
    "                                            use_mlp=True,\n",
    "                                            mlp_fn=data_generator_n7._mini_mlp,\n",
    "                                            alphas=alphas7_f,\n",
    "                                            betas=betas3_f)"
   ]
  },
  {
   "cell_type": "code",
   "execution_count": 29,
   "metadata": {},
   "outputs": [],
   "source": [
    "if rerun_analyses:\n",
    "    loss_fn = lambda p, t : list((jax.numpy.sum(((p - t)**2), axis=(0,2))/(2*p.shape[0])))\n",
    "    seq_loss_dict_fully = SequencePredictionEvaluator(data_generator=data_generator_f7,\n",
    "                                                      test_batch_size=256,\n",
    "                                                      seeds=exp_config_probing_fully.seeds,\n",
    "                                                      model_list=['transformer', 'transformer', 'lsq', 'lsq'],\n",
    "                                                      models=[model_f3, model_f7, lsq_solver_3_f, lsq_solver_7_f],\n",
    "                                                      states=[state_tf_fully_3, state_tf_fully_7, None, None],\n",
    "                                                      loss_fn=loss_fn).run()\n",
    "    seq_loss_dict_partobs = SequencePredictionEvaluator(data_generator=data_generator_p7,\n",
    "                                                        test_batch_size=256,\n",
    "                                                        seeds=exp_config_probing_partobs.seeds,\n",
    "                                                        model_list=['transformer', 'lsq'],\n",
    "                                                        models=[model_p7, lsq_solver_7_p],\n",
    "                                                        states=[state_tf_partobs_7, None],\n",
    "                                                        loss_fn=loss_fn).run()\n",
    "    seq_loss_dict_nonlin = SequencePredictionEvaluator(data_generator=data_generator_n7,\n",
    "                                                       test_batch_size=256,\n",
    "                                                       seeds=exp_config_probing_fully.seeds,\n",
    "                                                       model_list=['transformer', 'transformer', 'lsq', 'lsq'],\n",
    "                                                       models=[model_n7, lsq_solver_7_n],\n",
    "                                                       states=[state_tf_nonlin_7, data_generator_n7._mini_mlp],\n",
    "                                                       loss_fn=loss_fn).run()\n",
    "    if store_results:\n",
    "        for path, seq_perf_dict in zip ([path_seqperf_fully, \n",
    "                                         path_seqperf_partobs, \n",
    "                                         path_seqperf_nonlin], \n",
    "                                        [seq_loss_dict_fully, \n",
    "                                         seq_loss_dict_partobs, \n",
    "                                         seq_loss_dict_nonlin]):\n",
    "            print(f'Storing results in path=\\'{path}\\'')\n",
    "            with open(path, 'wb') as handle:\n",
    "                pkl.dump(seq_perf_dict, handle, protocol=pkl.HIGHEST_PROTOCOL)\n",
    "else:\n",
    "    with open(path_seqperf_fully, 'rb') as handle:\n",
    "        seq_loss_dict_fully = pkl.load(handle)\n",
    "    with open(path_seqperf_partobs, 'rb') as handle:\n",
    "        seq_loss_dict_partobs = pkl.load(handle)\n",
    "    with open(path_seqperf_nonlin, 'rb') as handle:\n",
    "        seq_loss_dict_nonlin = pkl.load(handle)"
   ]
  },
  {
   "cell_type": "markdown",
   "metadata": {},
   "source": [
    "## Visualization of results:"
   ]
  },
  {
   "cell_type": "code",
   "execution_count": 30,
   "metadata": {},
   "outputs": [
    {
     "data": {
      "image/png": "[encoded data removed]",
      "text/plain": [
       "<Figure size 720x288 with 5 Axes>"
      ]
     },
     "metadata": {
      "needs_background": "light"
     },
     "output_type": "display_data"
    }
   ],
   "source": [
    "legend_fontsize = 'small'\n",
    "\n",
    "def subplot_probe(ax,\n",
    "                  cols: List,\n",
    "                  mean: List,\n",
    "                  std: List,\n",
    "                  name: str,\n",
    "                  num_graphs: int):\n",
    "    for i in range(num_graphs):\n",
    "        c = cols[i]\n",
    "        linestyle = 'solid'\n",
    "        ax.plot(jnp.array(mean)[:,i], linewidth=2, color=c, linestyle=linestyle, label=f'$d={i}$')\n",
    "        ax.fill_between(range(mean.shape[0]), (mean[:,i]-std[:,i]),(mean[:,i]+std[:,i]) ,alpha=0.3, facecolor=c)\n",
    "    ax.tick_params(axis='x', colors='dimgray')\n",
    "    ax.tick_params(axis='y', colors='dimgray')\n",
    "    ax.spines['right'].set_visible(False)\n",
    "    ax.spines['top'].set_visible(False)\n",
    "    ax.spines['bottom'].set_color('dimgray')\n",
    "    ax.spines['left'].set_color('dimgray')\n",
    "    ax.set_xlabel('Sequence length $t$')\n",
    "    ax.set_ylabel(name)\n",
    "    ax.set_yscale('log')\n",
    "    ax.set_xticks([0,19,39],[1,20,40],fontsize=16)\n",
    "\n",
    "def subplot_perf(ax,\n",
    "                 seq_loss_dict: Dict[str, any],\n",
    "                 model_list: List[str],\n",
    "                 cols: List,\n",
    "                 line_scale: int = 1):\n",
    "    loss_list = seq_loss_dict['losses']\n",
    "    loss_arr = jnp.array(loss_list)\n",
    "    mean_losses = tuple([jnp.mean(loss_arr[idx],axis=0) for idx in range(len(model_list))])\n",
    "    std_losses = tuple([jnp.std(loss_arr[idx],axis=0) for idx in range(len(model_list))])\n",
    "    for idx in range(len(model_list)):\n",
    "        ax.plot(mean_losses[idx], linewidth=2*(2 if model_list[idx][:3] in ['GD-', 'LSQ', 'Pro'] else 1), linestyle='dotted' if model_list[idx][:3] in ['GD-', 'LSQ', 'Pro'] else 'solid', label=model_list[idx], color=cols[idx])\n",
    "        ax.fill_between(range(len(mean_losses[0])),\n",
    "                        (mean_losses[idx] - std_losses[idx]),\n",
    "                        (mean_losses[idx] - std_losses[idx]),\n",
    "                        alpha=0.3,\n",
    "                        facecolor=cols[idx])\n",
    "    ax.tick_params(axis='x', colors='dimgray')\n",
    "    ax.tick_params(axis='y', colors='dimgray')\n",
    "    ax.spines['right'].set_visible(False)\n",
    "    ax.spines['top'].set_visible(False)\n",
    "    ax.spines['bottom'].set_color('dimgray')\n",
    "    ax.spines['left'].set_color('dimgray')\n",
    "    ax.set_xlabel('Sequence length $t$')\n",
    "    ax.set_ylabel('Next-token prediction MSE')\n",
    "    ax.set_xlim(0,50)\n",
    "    ax.set_ylim(0,)\n",
    "    ax.legend(loc=1, fontsize=legend_fontsize)\n",
    "    ax.set_xticks([0,19,39],[1,20,40])\n",
    "\n",
    "def plot_probing(result_dict_probe: Dict[str, any],\n",
    "                 seq_loss_dict_one: Dict[str, any],\n",
    "                 model_list: List):\n",
    "\n",
    "    plt.rcParams.update({'font.size': 15})\n",
    "    plt.rc('axes', labelsize=17)\n",
    "    plt.rcParams.update({\n",
    "        \"text.usetex\": False,\n",
    "    })\n",
    "\n",
    "    # Extract Probe info:\n",
    "    results_prob = result_dict_probe['results']\n",
    "    _, next_probes, inv_curr_probes, _, _ = tuple([jnp.array(res) for res in results_prob])\n",
    "    mean_next_probes = jnp.mean(next_probes, axis=0)[1:,:]\n",
    "    std_next_probes = jnp.std(next_probes, axis=0)[1:,:]\n",
    "    mean_inv_curr_probes = jnp.mean(inv_curr_probes, axis=0)[1:,:]\n",
    "    std_inv_curr_probes = jnp.std(inv_curr_probes, axis=0)[1:,:]\n",
    "\n",
    "\n",
    "    num_graphs = len(mean_next_probes[1])\n",
    "    colormap_sm, colormap_mesa, colormap_lin = tuple([plt.get_cmap(col, 100) for col in ['Blues', 'Reds', 'Greens']])\n",
    "    subplot_col_fn = lambda colmap : [colmap(i) for i in [10+(80//num_graphs)*(k+1) for k in range(num_graphs)]]\n",
    "\n",
    "    c_tf3 = subplot_col_fn(colormap_sm)[-4]\n",
    "    c_tf7 = subplot_col_fn(colormap_sm)[-1]\n",
    "    c_lsq3 = plt.get_cmap('YlOrBr', 100)(36)\n",
    "    c_lsq7 = plt.get_cmap('YlOrBr', 100)(56)\n",
    "\n",
    "    cols_p1 = [c_tf3, c_tf7, c_lsq3, c_lsq7]\n",
    "\n",
    "    fig, axs = plt.subplots(nrows=1,\n",
    "                            ncols=3,\n",
    "                            figsize=(10, 4),\n",
    "                            gridspec_kw={'width_ratios': [1,1,1]},\n",
    "                            layout='constrained')\n",
    "\n",
    "    ################################################\n",
    "    # Probe Targets:\n",
    "    subplot_probe(ax=axs[0],\n",
    "                  cols=subplot_col_fn(colormap_sm),\n",
    "                  mean=mean_next_probes,\n",
    "                  std=std_next_probes,\n",
    "                  name='Target probe MSE',\n",
    "                  num_graphs = num_graphs)\n",
    "\n",
    "    # Corresponding Colorbar:\n",
    "    box = axs[0].get_position()\n",
    "    cbar_height = 0.015\n",
    "    space_between = 0.0\n",
    "    cbar_offset = 0.13\n",
    "    cbar_ax1 = fig.add_axes([box.x0-0.03, box.y0 - cbar_offset, box.width, cbar_height])\n",
    "\n",
    "    cmap = colormap_lin\n",
    "    bounds = [1,2,3,4,5,6,7,8,9]\n",
    "    norm = colors.BoundaryNorm(bounds, cmap.N)\n",
    "    cs1 = fig.colorbar(mappable=cm.ScalarMappable(norm=norm, cmap=colormap_sm),\n",
    "                 orientation='horizontal',\n",
    "                 cax=cbar_ax1)\n",
    "\n",
    "    mid_points = [(bounds[i] + bounds[i + 1]) / 2 for i in range(len(bounds) - 1)]\n",
    "    cs1.set_ticks(mid_points)\n",
    "    cs1.set_ticklabels([\"Inp.\", \"$1$\", \"$2$\", \"$3$\", \"$4$\", \"$5$\", \"$6$\", \"$7$\"],color='dimgray')\n",
    "\n",
    "    cbar_ax1.set_frame_on(False)\n",
    "    cbar_ax1.set_frame_on(False)\n",
    "    cbar_ax1.xaxis.set_tick_params(size=0)\n",
    "    label_y_position = box.y0 - cbar_offset - (cbar_height / 2) - space_between / 2\n",
    "    fig.text(box.x0-0.04, label_y_position+0.005, 'Layer\\n$d$:', va='center', ha='right', rotation='horizontal')\n",
    "    ################################################\n",
    "    # Probe Inverse:\n",
    "    subplot_probe(ax=axs[1],\n",
    "                  cols=subplot_col_fn(colormap_sm),\n",
    "                  mean=mean_inv_curr_probes,\n",
    "                  std=std_inv_curr_probes,\n",
    "                  name='Preconditioning probe MSE',\n",
    "                  num_graphs = num_graphs)\n",
    "    axs[1].set_ylim(0.00153,0.1)\n",
    "    # Corresponding Colorbar:\n",
    "    box = axs[1].get_position()\n",
    "    cbar_height = 0.015\n",
    "    space_between = 0.0\n",
    "    cbar_offset = 0.13\n",
    "    cbar_ax1 = fig.add_axes([box.x0+0.05, box.y0 - cbar_offset, box.width, cbar_height])\n",
    "\n",
    "    cmap = colormap_lin\n",
    "    bounds = [1,2,3,4,5,6,7,8,9]\n",
    "    norm = colors.BoundaryNorm(bounds, cmap.N)\n",
    "    cs1 = fig.colorbar(mappable=cm.ScalarMappable(norm=norm, cmap=colormap_sm),\n",
    "                 orientation='horizontal',\n",
    "                 cax=cbar_ax1)\n",
    "\n",
    "    mid_points = [(bounds[i] + bounds[i + 1]) / 2 for i in range(len(bounds) - 1)]\n",
    "    cs1.set_ticks(mid_points)\n",
    "    cs1.set_ticklabels([\"Inp.\", \"$1$\", \"$2$\", \"$3$\", \"$4$\", \"$5$\", \"$6$\", \"$7$\"],color='dimgray')\n",
    "\n",
    "    cbar_ax1.set_frame_on(False)\n",
    "    cbar_ax1.set_frame_on(False)\n",
    "    cbar_ax1.xaxis.set_tick_params(size=0)\n",
    "    label_y_position = box.y0 - cbar_offset - (cbar_height / 2) - space_between / 2\n",
    "    fig.text(box.x0 + 0.04, label_y_position+0.005, 'Layer\\n$d$:', va='center', ha='right', rotation='horizontal')\n",
    "\n",
    "\n",
    "    ################################################\n",
    "    # Performance - Analyses:\n",
    "    subplot_perf(ax=axs[2],\n",
    "                 seq_loss_dict=seq_loss_dict_one,\n",
    "                 model_list=model_list,\n",
    "                 cols=cols_p1,\n",
    "                 line_scale=2)\n",
    "\n",
    "    ################################################\n",
    "\n",
    "    label_size = 34\n",
    "    axs[0].text(-0.25, 1.27, 'A', transform=axs[0].transAxes, fontsize=label_size, va='top')\n",
    "    axs[1].text(-0.25, 1.27, 'B', transform=axs[1].transAxes, fontsize=label_size, va='top')\n",
    "    axs[2].text(-0.25, 1.27, 'C', transform=axs[2].transAxes, fontsize=label_size, va='top')\n",
    "\n",
    "    if store_results:\n",
    "        fig.savefig('fully_full_probing.png', bbox_inches='tight', pad_inches=0.1)\n",
    "    plt.show()\n",
    "\n",
    "plot_probing(result_dict_probe = result_dict_fully,\n",
    "             seq_loss_dict_one = seq_loss_dict_fully,\n",
    "             model_list = ['Transformer (3)', 'Transformer (7)', 'Proposition-2 (3)', 'Proposition-2 (7)'])"
   ]
  }
 ],
 "metadata": {
  "kernelspec": {
   "display_name": "Python 3",
   "language": "python",
   "name": "python3"
  },
  "language_info": {
   "codemirror_mode": {
    "name": "ipython",
    "version": 3
   },
   "file_extension": ".py",
   "mimetype": "text/x-python",
   "name": "python",
   "nbconvert_exporter": "python",
   "pygments_lexer": "ipython3",
   "version": "3.9.10"
  }
 },
 "nbformat": 4,
 "nbformat_minor": 2
}
