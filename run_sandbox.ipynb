{
 "cells": [
  {
   "cell_type": "markdown",
   "metadata": {},
   "source": [
    "# Example jupyter notebook for experiments"
   ]
  },
  {
   "cell_type": "markdown",
   "metadata": {},
   "source": [
    "### Setup:"
   ]
  },
  {
   "cell_type": "markdown",
   "metadata": {},
   "source": [
    "**Imports, Paths, GPU-Settings and Flags:**"
   ]
  },
  {
   "cell_type": "code",
   "execution_count": 1,
   "metadata": {},
   "outputs": [],
   "source": [
    "import os\n",
    "import jax\n",
    "import jax.numpy as jnp\n",
    "import pickle as pkl\n",
    "from typing import Dict, List\n",
    "from matplotlib import cm, colors, pyplot as plt\n",
    "from matplotlib.ticker import FuncFormatter\n",
    "\n",
    "from configs.config import get_experiment_config, get_model_config\n",
    "from src.util.sequence_performance.sequenceloss_eval import SequencePredictionEvaluator\n",
    "from src.models.auxiliary_models import LeastSquaresSequenceSolver\n",
    "from src.training_init import TrainingInitializer"
   ]
  },
  {
   "cell_type": "code",
   "execution_count": 3,
   "metadata": {},
   "outputs": [
    {
     "name": "stdout",
     "output_type": "stream",
     "text": [
      "Running on Devices: [CpuDevice(id=0)],\n",
      "Re-Run Analysis: True, \n",
      "Store Results: True\n"
     ]
    }
   ],
   "source": [
    "os.environ['CUDA_VISIBLE_DEVICES'] = '0'\n",
    "devices = jax.devices()\n",
    "\n",
    "rerun_analyses = True\n",
    "store_results = True\n",
    "\n",
    "path_seqperf_test = 'performance_testresults.pkl'\n",
    "path_plot  = 'test_plot.pdf'\n",
    "\n",
    "print(f'Running on Devices: {devices},\\nRe-Run Analysis: {rerun_analyses}, \\nStore Results: {store_results}')"
   ]
  },
  {
   "cell_type": "markdown",
   "metadata": {},
   "source": [
    "## Training"
   ]
  },
  {
   "cell_type": "code",
   "execution_count": 4,
   "metadata": {},
   "outputs": [
    {
     "name": "stdout",
     "output_type": "stream",
     "text": [
      "loss in epoch 0: 1.6699821949005127\n",
      "loss in epoch 1: 1.6699821949005127\n",
      "loss in epoch 2: 1.6689651012420654\n",
      "loss in epoch 3: 1.3428382873535156\n",
      "loss in epoch 4: 0.8409770727157593\n",
      "loss in epoch 5: 0.7521638870239258\n",
      "loss in epoch 6: 0.5836887359619141\n",
      "loss in epoch 7: 0.4791499972343445\n",
      "loss in epoch 8: 0.4520125389099121\n",
      "loss in epoch 9: 0.44628533720970154\n",
      "loss in epoch 10: 0.44729146361351013\n",
      "loss in epoch 11: 0.442241907119751\n",
      "loss in epoch 12: 0.44163256883621216\n",
      "loss in epoch 13: 0.4381841719150543\n",
      "loss in epoch 14: 0.43939536809921265\n",
      "loss in epoch 15: 0.439513623714447\n",
      "loss in epoch 16: 0.4411059021949768\n",
      "loss in epoch 17: 0.43620386719703674\n",
      "loss in epoch 18: 0.43751421570777893\n",
      "loss in epoch 19: 0.43517059087753296\n",
      "loss in epoch 20: 0.43624696135520935\n",
      "loss in epoch 21: 0.4353099465370178\n",
      "loss in epoch 22: 0.43216824531555176\n",
      "loss in epoch 23: 0.43513089418411255\n",
      "loss in epoch 24: 0.4311754107475281\n"
     ]
    }
   ],
   "source": [
    "mod_config = get_model_config()\n",
    "exp_config = get_experiment_config(seeds=[1, 11, 111, 1111, 11111])\n",
    "(model, optimizer, data_generator, train_module) = TrainingInitializer(model_config=mod_config, \n",
    "                                                                       experiment_config=exp_config).run()\n",
    "training_seed = 42\n",
    "rng = jax.random.PRNGKey(training_seed)\n",
    "rng, test_rng, train_rng = jax.random.split(rng, 3)\n",
    "state_tf, rng = train_module.get_init_state(rng, interpol_call=False)\n",
    "for epoch_idx in range(25):\n",
    "    state_tf, train_rng, _, _, _ = train_module.train_epoch(epoch=epoch_idx,\n",
    "                                                            state=state_tf,\n",
    "                                                            rng=train_rng,\n",
    "                                                            test_rng=test_rng,\n",
    "                                                            num_batches_train=100,\n",
    "                                                            interpolate=False)"
   ]
  },
  {
   "cell_type": "markdown",
   "metadata": {},
   "source": [
    "## Test performance:"
   ]
  },
  {
   "cell_type": "code",
   "execution_count": 5,
   "metadata": {},
   "outputs": [
    {
     "name": "stdout",
     "output_type": "stream",
     "text": [
      "Storing performance evaluation dict. in path='performance_testresults.pkl'\n"
     ]
    }
   ],
   "source": [
    "lsq_solver = LeastSquaresSequenceSolver(approximator='None',\n",
    "                                        seq_len=50,\n",
    "                                        lamb=0.001)\n",
    "\n",
    "loss_fn = lambda p, t : list((jax.numpy.sum(((p - t)**2), axis=(0,2))/(2*p.shape[0])))\n",
    "seq_evaluator = SequencePredictionEvaluator(data_generator=data_generator,\n",
    "                                                   test_batch_size=256,\n",
    "                                                   seeds=exp_config.seeds,\n",
    "                                                   model_list = ['transformer', 'lsq'],\n",
    "                                                   models = [model, lsq_solver],\n",
    "                                                   states = [state_tf, None],\n",
    "                                                   loss_fn = loss_fn)\n",
    "\n",
    "if rerun_analyses:\n",
    "    seq_loss_dict = seq_evaluator.run()\n",
    "    if store_results:\n",
    "        print(f'Storing performance evaluation dict. in path=\\'{path_seqperf_test}\\'')\n",
    "        with open(path_seqperf_test, 'wb') as handle:\n",
    "            pkl.dump(seq_loss_dict, handle, protocol=pkl.HIGHEST_PROTOCOL)\n",
    "else:\n",
    "    with open(path_seqperf_test, 'rb') as handle:\n",
    "        seq_loss_dict = pkl.load(handle)"
   ]
  },
  {
   "cell_type": "markdown",
   "metadata": {},
   "source": [
    "## Plot results:"
   ]
  },
  {
   "cell_type": "code",
   "execution_count": 6,
   "metadata": {},
   "outputs": [
    {
     "data": {
      "image/png": "[encoded data removed]",
      "text/plain": [
       "<Figure size 720x576 with 1 Axes>"
      ]
     },
     "metadata": {
      "needs_background": "light"
     },
     "output_type": "display_data"
    }
   ],
   "source": [
    "def subplot_perf(ax,\n",
    "                 seq_loss_dict: Dict[str, any],\n",
    "                 model_list: List[str],\n",
    "                 cols: List):\n",
    "    legend_fontsize = 12\n",
    "    loss_list = seq_loss_dict['losses']\n",
    "    loss_arr = jnp.array(loss_list)\n",
    "    mean_losses = jnp.mean(loss_arr,axis=1)\n",
    "    std_losses = jnp.std(loss_arr,axis=1)\n",
    "    for idx in range(len(model_list)):\n",
    "        ax.plot(mean_losses[idx], linewidth=2, linestyle='solid', label=model_list[idx], color=cols[idx])\n",
    "        ax.fill_between(range(len(mean_losses[0])),\n",
    "                        (mean_losses[idx] - std_losses[idx]),\n",
    "                        (mean_losses[idx] - std_losses[idx]),\n",
    "                        alpha=0.3,\n",
    "                        facecolor=cols[idx])\n",
    "\n",
    "    formatter = FuncFormatter(lambda x, _: '{:.1f}'.format(x))\n",
    "    ax.yaxis.set_major_formatter(formatter)\n",
    "    ax.tick_params(axis='x', colors='dimgray')\n",
    "    ax.tick_params(axis='y', colors='dimgray')\n",
    "    ax.spines['right'].set_visible(False)\n",
    "    ax.spines['top'].set_visible(False)\n",
    "    ax.spines['bottom'].set_color('dimgray')\n",
    "    ax.spines['left'].set_color('dimgray')\n",
    "    ax.set_xlabel('Sequence length $t$')\n",
    "    ax.set_ylabel('Next-token prediction MSE')\n",
    "    ax.set_xlim(0,50)\n",
    "    ax.set_ylim(0,)\n",
    "    ax.legend(loc=1, fontsize=legend_fontsize)\n",
    "\n",
    "def plot_fig(seq_loss_dict: Dict[str, any],\n",
    "             model_list: List[str]):\n",
    "    \n",
    "    plt.rcParams.update({'font.size': 15})\n",
    "    plt.rc('axes', labelsize=17)\n",
    "    plt.rcParams.update({\n",
    "        \"text.usetex\": False,\n",
    "    })\n",
    "\n",
    "    c_tf1 = plt.get_cmap('Greens', 100)(40)\n",
    "    c_lsq = plt.get_cmap('YlOrBr', 100)(36)\n",
    "    c_gd = plt.get_cmap('copper', 100)(60)\n",
    "    cols_tf = [c_tf1, c_gd, c_lsq]\n",
    "\n",
    "    fig, axs = plt.subplots(nrows=1,\n",
    "                            ncols=1,\n",
    "                            figsize=(10, 8),\n",
    "                            gridspec_kw={'width_ratios': [1]},\n",
    "                            layout='constrained')\n",
    "    subplot_perf(ax=axs,\n",
    "                 seq_loss_dict=seq_loss_dict,\n",
    "                 cols=cols_tf,\n",
    "                 model_list=model_list)\n",
    "    \n",
    "    fig.savefig(path_plot, bbox_inches='tight', pad_inches=0.05)\n",
    "    plt.show()\n",
    "\n",
    "plot_fig(seq_loss_dict,\n",
    "         model_list = ['2-Layer Transformer', 'LSQ'])"
   ]
  }
 ],
 "metadata": {
  "kernelspec": {
   "display_name": "Python 3",
   "language": "python",
   "name": "python3"
  },
  "language_info": {
   "codemirror_mode": {
    "name": "ipython",
    "version": 3
   },
   "file_extension": ".py",
   "mimetype": "text/x-python",
   "name": "python",
   "nbconvert_exporter": "python",
   "pygments_lexer": "ipython3",
   "version": "3.9.10"
  }
 },
 "nbformat": 4,
 "nbformat_minor": 2
}
