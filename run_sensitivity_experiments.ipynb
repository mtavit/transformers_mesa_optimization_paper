{
 "cells": [
  {
   "cell_type": "markdown",
   "metadata": {},
   "source": [
    "# Sensitivity Experiments"
   ]
  },
  {
   "cell_type": "markdown",
   "metadata": {},
   "source": [
    "### Setup"
   ]
  },
  {
   "cell_type": "markdown",
   "metadata": {},
   "source": [
    "**Imports, GPU-Settings and Flags:**"
   ]
  },
  {
   "cell_type": "code",
   "execution_count": 4,
   "metadata": {},
   "outputs": [],
   "source": [
    "import os\n",
    "import jax\n",
    "import pickle as pkl\n",
    "import jax.numpy as jnp\n",
    "import matplotlib.pyplot as plt\n",
    "from typing import Dict\n",
    "from matplotlib import cm, colors\n",
    "from matplotlib.ticker import FormatStrFormatter\n",
    "\n",
    "from configs.config import get_experiment_config, get_model_config\n",
    "from src.util.internal_data_construction.sensitivity import SensitivityAnalyser"
   ]
  },
  {
   "cell_type": "code",
   "execution_count": 5,
   "metadata": {},
   "outputs": [
    {
     "name": "stdout",
     "output_type": "stream",
     "text": [
      "Running on Devices: [CpuDevice(id=0)],\n",
      "Re-Run Analysis: False, \n",
      "Re-Run Models: False, \n",
      "Store Results: False\n"
     ]
    }
   ],
   "source": [
    "os.environ['CUDA_VISIBLE_DEVICES'] = '0'\n",
    "devices = jax.devices()\n",
    "\n",
    "rerun_models = False\n",
    "rerun_analyses = False\n",
    "store_results = False\n",
    "\n",
    "path_sensitivity_fully = 'experiment_results/linear_seq_fully/sensitvity_all.pkl'\n",
    "path_sensitivity_nonlin = 'experiment_results/nonlinear_seq_fully/sensitvity_all_nonlin.pkl'\n",
    "path_sensitivity_partobs = 'experiment_results/linear_seq_partial/sensitvity_all_partobs.pkl'\n",
    "\n",
    "print(f'Running on Devices: {devices},\\nRe-Run Analysis: {rerun_analyses}, \\nRe-Run Models: {rerun_models}, \\nStore Results: {store_results}')"
   ]
  },
  {
   "cell_type": "markdown",
   "metadata": {},
   "source": [
    "**Define Models:**"
   ]
  },
  {
   "cell_type": "markdown",
   "metadata": {},
   "source": [
    "<font color='grey'>Arguments for Model-Config, Seperated by '.':</font> <br>\n",
    "    - model: Defines Model Type (fixed settings for all other fields). See config.py file for further information.<br>\n",
    "    - layers: No. of layers in the Transformer. For certain model types (such as those used here), we have layers = 'True' model-layers - 1, as we add another special layer which incorporates the PE-logic in the attention. Thus, a six-layer model is actually seven layers deep. A layer comprises of the multi-head attention mechanism as well as potentially various types of (Layer-) Normalization mechanisms, MLPs and standard residual connections.<br>\n",
    "    - heads: No. of attention heads.<br>\n",
    "    - embed_dim: Dimension of embeddings used for computations in the Transformer. <br>\n",
    "    - seq_len: Length of input sequence lengths.<br>\n",
    "    - key_size: Key-size per head in attention. <br>\n",
    "    - pe_kq: Use Positional encodings in keys/queries in special first layer instead of adding them to the residual stream.<br>\n",
    "    - pe_emb: Use standard Positional encodings, added to the residual stream before the first Transformer layer. <br>\n",
    "    - laynorm: Use standard Layer-Normalization in each Transformer layer.<br>\n",
    "    - mlp: Use standard MLP in Transformer layers. Activation function is GeLu (jax.nn.gelu).<br>\n",
    "    - dim_mlp: Dimension of hidden MLP layers.<br>\n",
    "    - linear: Use linear self-attention.<br>\n",
    "    - clip: Use forward-pass activation clipping (of the residual stream).<br>\n",
    "    - clip_val: Clipping bandwidth (i.e. x <- Clip(x, min=-clip_val, max=clip_val)). <br>\n",
    "    - schlagnorm: Use 'Schlag-Normalization' as proposed by Schlag, 2021: Separate Normalization of query and key projections in the attention-mechanism.<br>\n",
    "    - schlagnorm_t: Also normalize value projections.<br>\n",
    "    - schlagnorm_hyb: Use Schlag-Norm in the first layer.<br>\n",
    "    - schlagnorm_t_hyb: Also normalize value projections in the first layer.<br>"
   ]
  },
  {
   "cell_type": "code",
   "execution_count": 6,
   "metadata": {},
   "outputs": [],
   "source": [
    "models = {'full_seven_sm':      'fully_obs_full_fledged_transformer.6.4.40.50.20.True.False.False.False.0.False.False.0.False.False.False.False',\n",
    "          'full_mesa':          'fully_obs_full_fledged_mesa.1.4.40.50.20.True.False.False.False.0.False.True.1.False.False.False.False',\n",
    "          'just_mesa':          'just_mesa.1.4.40.50.20.True.False.False.False.0.False.True.1.False.False.False.False',\n",
    "          'partobs_seven_sm':   'part_obs_full_fledged_transformer.6.12.80.50.20.True.False.False.False.0.False.False.0.False.False.False.False',\n",
    "          'partobs_mesa':       'part_obs_full_fledged_mesa.1.12.80.50.20.True.False.False.False.0.False.True.1.False.False.False.False',\n",
    "          'nonlin_seven_sm':    'nonlinear_full_fledged_transformer.6.4.60.50.20.True.False.False.True.300.False.False.0.True.False.False.False',\n",
    "          'nonlin_mesa':        'fully_obs_full_fledged_mesa.1.4.60.50.20.True.False.False.True.300.False.True.15.True.False.False.False'}"
   ]
  },
  {
   "cell_type": "markdown",
   "metadata": {},
   "source": [
    "### Experiments (Training on fully observable linear dynamical system):"
   ]
  },
  {
   "cell_type": "code",
   "execution_count": 7,
   "metadata": {},
   "outputs": [],
   "source": [
    "if rerun_analyses:    \n",
    "    seeds = [1, 11, 111, 1111, 11111]\n",
    "    exp_config_sensitivity_fully = get_experiment_config(experiment='sensitivity', seeds=seeds)\n",
    "    exp_config_sensitivity_j_mesa_fully = get_experiment_config(experiment='sensitivity', seeds=seeds)\n",
    "    exp_config_sensitivity_j_mesa_fully.optim.peak_lr = 3e-4\n",
    "    sensitivtiy_result_dict_sm_fully = SensitivityAnalyser(model_config=get_model_config(models['full_seven_sm']), experiment_config=exp_config_sensitivity_fully).run()\n",
    "    sensitivtiy_result_dict_mesa_fully = SensitivityAnalyser(model_config=get_model_config(models['full_mesa']), experiment_config=exp_config_sensitivity_fully).run()\n",
    "    sensitivtiy_result_dict_j_mesa_fully = SensitivityAnalyser(model_config=get_model_config(models['just_mesa']), experiment_config=exp_config_sensitivity_j_mesa_fully).run()\n",
    "    result_dict_fully = {'sensitivtiy_result_dict_sm' : sensitivtiy_result_dict_sm_fully,\n",
    "                         'sensitivtiy_result_dict_mesa' : sensitivtiy_result_dict_mesa_fully,\n",
    "                         'sensitivtiy_result_dict_just_mesa' : sensitivtiy_result_dict_j_mesa_fully}\n",
    "    if store_results:\n",
    "        with open(path_sensitivity_fully, 'wb') as handle:\n",
    "            pkl.dump(result_dict_fully, handle, protocol=pkl.HIGHEST_PROTOCOL)\n",
    "        print(f'Storing results in {path_sensitivity_fully}')\n",
    "else:\n",
    "    with open(path_sensitivity_fully, 'rb') as handle:\n",
    "        result_dict_fully = pkl.load(handle)\n",
    "    sensitivtiy_result_dict_sm_fully = result_dict_fully['sensitivtiy_result_dict_sm']\n",
    "    sensitivtiy_result_dict_mesa_fully = result_dict_fully['sensitivtiy_result_dict_mesa']\n",
    "    sensitivtiy_result_dict_j_mesa_fully = result_dict_fully['sensitivtiy_result_dict_just_mesa']"
   ]
  },
  {
   "cell_type": "markdown",
   "metadata": {},
   "source": [
    "### Experiments (Training on nonlinear dynamical system):"
   ]
  },
  {
   "cell_type": "code",
   "execution_count": 8,
   "metadata": {},
   "outputs": [],
   "source": [
    "if rerun_analyses:    \n",
    "    exp_config_sensitivity_nonlin = get_experiment_config(experiment='nonlin', seeds=[1, 11, 111, 1111, 11111])\n",
    "    sensitivtiy_result_dict_sm_nonlin = SensitivityAnalyser(model_config=get_model_config(models['nonlin_seven_sm']), experiment_config=exp_config_sensitivity_nonlin).run()\n",
    "    sensitivtiy_result_dict_mesa_nonlin = SensitivityAnalyser(model_config=get_model_config(models['nonlin_mesa']), experiment_config=exp_config_sensitivity_nonlin).run()\n",
    "    result_dict_nonlin = {'sensitivtiy_result_dict_sm' : sensitivtiy_result_dict_sm_nonlin,\n",
    "                          'sensitivtiy_result_dict_mesa' : sensitivtiy_result_dict_mesa_nonlin}\n",
    "    if store_results:\n",
    "        with open(path_sensitivity_nonlin, 'wb') as handle:\n",
    "            pkl.dump(result_dict_nonlin, handle, protocol=pkl.HIGHEST_PROTOCOL)\n",
    "        print(f'Storing results in {path_sensitivity_nonlin}')\n",
    "else:\n",
    "    with open(path_sensitivity_nonlin, 'rb') as handle:\n",
    "        result_dict_nonlin = pkl.load(handle)\n",
    "    sensitivtiy_result_dict_sm_nonlin = result_dict_nonlin['sensitivtiy_result_dict_sm']\n",
    "    sensitivtiy_result_dict_mesa_nonlin = result_dict_nonlin['sensitivtiy_result_dict_mesa']"
   ]
  },
  {
   "cell_type": "markdown",
   "metadata": {},
   "source": [
    "### Experiments (Training on partially observable linear dynamical system):"
   ]
  },
  {
   "cell_type": "code",
   "execution_count": 9,
   "metadata": {},
   "outputs": [],
   "source": [
    "if rerun_analyses:    \n",
    "    exp_config_sensitivity_partobs = get_experiment_config(experiment='partobs', seeds=[1, 11, 111, 1111, 11111])\n",
    "    sensitivtiy_result_dict_sm_partobs = SensitivityAnalyser(model_config=get_model_config(models['partobs_seven_sm']), experiment_config=exp_config_sensitivity_partobs).run()\n",
    "    sensitivtiy_result_dict_mesa_partobs = SensitivityAnalyser(model_config=get_model_config(models['partobs_mesa']), experiment_config=exp_config_sensitivity_partobs).run()\n",
    "    result_dict_partobs = {'sensitivtiy_result_dict_sm' : sensitivtiy_result_dict_sm_partobs,\n",
    "                          'sensitivtiy_result_dict_mesa' : sensitivtiy_result_dict_mesa_partobs}\n",
    "    if store_results:\n",
    "        with open(path_sensitivity_partobs, 'wb') as handle:\n",
    "            pkl.dump(result_dict_partobs, handle, protocol=pkl.HIGHEST_PROTOCOL)\n",
    "        print(f'Storing results in {path_sensitivity_partobs}')\n",
    "else:\n",
    "    with open(path_sensitivity_partobs, 'rb') as handle:\n",
    "        result_dict_partobs = pkl.load(handle)\n",
    "    sensitivtiy_result_dict_sm_partobs = result_dict_partobs['sensitivtiy_result_dict_sm']\n",
    "    sensitivtiy_result_dict_mesa_partobs = result_dict_partobs['sensitivtiy_result_dict_mesa']"
   ]
  },
  {
   "cell_type": "markdown",
   "metadata": {},
   "source": [
    "### Visualization of Results"
   ]
  },
  {
   "cell_type": "code",
   "execution_count": 18,
   "metadata": {},
   "outputs": [
    {
     "data": {
      "image/png": "[encoded data removed]",
      "text/plain": [
       "<Figure size 720x288 with 4 Axes>"
      ]
     },
     "metadata": {
      "needs_background": "light"
     },
     "output_type": "display_data"
    }
   ],
   "source": [
    "def plot_sensitivities(sensitivity_result_dicts_sm: Dict[str, any],\n",
    "                       sensitivity_result_dicts_mesa: Dict[str, any],\n",
    "                       sensitivity_result_dicts_just_mesa: Dict[str, any],\n",
    "                       sensitivity_range: int,\n",
    "                       sensitivity_train_len: int):\n",
    "    \n",
    "    def subplot_sensitivity(ax, \n",
    "                            cols, \n",
    "                            sensitivity_dict: Dict[str, any], \n",
    "                            analysis_range: int,\n",
    "                            train_len: int,\n",
    "                            linestyle: str):\n",
    "        cols.reverse()\n",
    "        plt_train_len = train_len//100\n",
    "        (mean_results, std_results, yavg_results) = sensitivity_dict['sensitivity_lists'][-1] # show probe for probe last token in sequence\n",
    "        for i, mean, std in zip(range(len(mean_results)), mean_results, std_results):\n",
    "            c = cols[i]\n",
    "            ax.plot(mean[:plt_train_len], linewidth=2, color=c, linestyle=linestyle, label=f'$d={i}$')\n",
    "            ax.fill_between(range(len(mean[:plt_train_len])), \n",
    "                            list(jnp.array(mean[:plt_train_len]) - jnp.array(std[:plt_train_len])), \n",
    "                            list(jnp.array(mean[:plt_train_len]) + jnp.array(std[:plt_train_len])), \n",
    "                            alpha=0.3, \n",
    "                            facecolor=c)\n",
    "        y_avg = yavg_results[0]\n",
    "        ax.plot(y_avg[:plt_train_len], linewidth=2, color=cols[-1], linestyle=linestyle, label='$t'+'<'+str(50-analysis_range)+'$')\n",
    "        ax.set_ylabel(r\"$\\| \\nabla_{s_{t'}} f_{50}^{(1)}\\|$\")\n",
    "        ax.set_xticks([0,(plt_train_len)//2,plt_train_len],[0,train_len//2,train_len])\n",
    "        ax.set_xlabel(\"Train steps\")\n",
    "        ax.tick_params(axis='x', colors='dimgray')\n",
    "        ax.tick_params(axis='y', colors='dimgray')\n",
    "        ax.spines['right'].set_visible(False)\n",
    "        ax.spines['top'].set_visible(False)\n",
    "        ax.spines['bottom'].set_color('dimgray')\n",
    "        ax.spines['left'].set_color('dimgray')\n",
    "        ax.yaxis.set_major_formatter(FormatStrFormatter('%.1f'))\n",
    "\n",
    "    plt.rcParams.update({'font.size': 15})\n",
    "    plt.rc('axes', labelsize=17)\n",
    "    plt.rcParams.update({\n",
    "        \"text.usetex\": False,\n",
    "    })\n",
    "    just_two_plots = sensitivity_result_dicts_just_mesa == None\n",
    "    num_graphs = sensitivity_range + 1\n",
    "    colormap_sm, colormap_mesa, colormap_just_mesa = tuple([plt.get_cmap(col, 100) for col in ['Blues', 'Reds', 'Purples']])\n",
    "    subplot_col_fn = lambda colmap : [colmap(i) for i in [10+(80//num_graphs)*(k+1) for k in range(num_graphs)]]\n",
    "\n",
    "    fig, axs = plt.subplots(nrows=1, \n",
    "                            ncols=2 if just_two_plots else 3,\n",
    "                            figsize=(10 if just_two_plots else 14, 4), \n",
    "                            gridspec_kw={'width_ratios': ([1,1] if just_two_plots else [1,1,1])},\n",
    "                            layout='constrained')\n",
    "    \n",
    "    ################################################\n",
    "    subplot_sensitivity(ax=axs[0], \n",
    "                        cols=subplot_col_fn(colormap_sm), \n",
    "                        sensitivity_dict=sensitivity_result_dicts_sm,\n",
    "                        analysis_range=sensitivity_range, \n",
    "                        train_len=sensitivity_train_len,\n",
    "                        linestyle='solid')\n",
    "    \n",
    "    # Corresponding Colorbar:\n",
    "    box = axs[0].get_position()\n",
    "    cbar_height = 0.015\n",
    "    space_between = 0.0\n",
    "    cbar_offset = 0.13\n",
    "    cbar_ax1 = fig.add_axes([box.x0 - 0.05, box.y0 - cbar_offset, box.width, cbar_height])\n",
    "\n",
    "    cmap = colormap_sm\n",
    "    bounds = [1,2,3,4,5,6,7,8]\n",
    "    norm = colors.BoundaryNorm(bounds, cmap.N)\n",
    "    cs1 = fig.colorbar(mappable=cm.ScalarMappable(norm=norm, cmap=colormap_sm),\n",
    "                 orientation='horizontal',\n",
    "                 cax=cbar_ax1)\n",
    "\n",
    "    mid_points = [(bounds[i] + bounds[i + 1]) / 2 for i in range(len(bounds) - 1)]\n",
    "    cs1.set_ticks(mid_points)\n",
    "    cs1.set_ticklabels([\"$0:44$\", \"\", \"$46$\", \"\",\"$48$\",\"\",\"$50$\"],color='dimgray')\n",
    "\n",
    "    cbar_ax1.set_frame_on(False)\n",
    "    cbar_ax1.set_frame_on(False)\n",
    "    cbar_ax1.xaxis.set_tick_params(size=0)\n",
    "    label_y_position = box.y0 - cbar_offset - (cbar_height / 2) - space_between / 2\n",
    "    fig.text(box.x0 - 0.06, label_y_position+0.005, 'Token\\n$s_{t\\'}$:', va='center', ha='right', rotation='horizontal', )\n",
    "    \n",
    "    ################################################\n",
    "    subplot_sensitivity(ax=axs[1], \n",
    "                        cols=subplot_col_fn(colormap_mesa), \n",
    "                        sensitivity_dict=sensitivity_result_dicts_mesa,\n",
    "                        analysis_range=sensitivity_range, \n",
    "                        train_len=sensitivity_train_len,\n",
    "                        linestyle='solid')\n",
    "    \n",
    "    # Corresponding Colorbar:\n",
    "    box = axs[1].get_position()\n",
    "    cbar_height = 0.015\n",
    "    space_between = 0.0\n",
    "    cbar_offset = 0.13\n",
    "    cbar_ax1 = fig.add_axes([box.x0 + 0.04, box.y0 - cbar_offset, box.width, cbar_height])\n",
    "\n",
    "    cmap = colormap_mesa\n",
    "    bounds = [1,2,3,4,5,6,7,8]\n",
    "    norm = colors.BoundaryNorm(bounds, cmap.N)\n",
    "    cs1 = fig.colorbar(mappable=cm.ScalarMappable(norm=norm, cmap=colormap_mesa),\n",
    "                 orientation='horizontal',\n",
    "                 cax=cbar_ax1)\n",
    "\n",
    "    mid_points = [(bounds[i] + bounds[i + 1]) / 2 for i in range(len(bounds) - 1)]\n",
    "    cs1.set_ticks(mid_points)\n",
    "    cs1.set_ticklabels([\"$0:44$\", \"\", \"$46$\", \"\",\"$48$\",\"\",\"$50$\"],color='dimgray')\n",
    "\n",
    "    cbar_ax1.set_frame_on(False)\n",
    "    cbar_ax1.set_frame_on(False)\n",
    "    cbar_ax1.xaxis.set_tick_params(size=0)\n",
    "    label_y_position = box.y0 - cbar_offset - (cbar_height / 2) - space_between / 2\n",
    "    fig.text(box.x0 + 0.03, label_y_position+0.005, 'Token\\n$s_{t\\'}$:', va='center', ha='right', rotation='horizontal', )\n",
    "    \n",
    "    ###########################################\n",
    "    if not just_two_plots:\n",
    "        subplot_sensitivity(ax=axs[2], \n",
    "                            cols=subplot_col_fn(colormap_just_mesa), \n",
    "                            sensitivity_dict=sensitivity_result_dicts_just_mesa,\n",
    "                            analysis_range=sensitivity_range, \n",
    "                            train_len=sensitivity_train_len,\n",
    "                            linestyle='solid')\n",
    "        # Corresponding Colorbar:\n",
    "        box = axs[2].get_position()\n",
    "        cbar_height = 0.015\n",
    "        space_between = 0.0\n",
    "        cbar_offset = 0.13\n",
    "        cbar_ax1 = fig.add_axes([box.x0 + 0.07, box.y0 - cbar_offset, box.width, cbar_height])\n",
    "\n",
    "        cmap = colormap_just_mesa\n",
    "        bounds = [1,2,3,4,5,6,7,8]\n",
    "        norm = colors.BoundaryNorm(bounds, cmap.N)\n",
    "        cs1 = fig.colorbar(mappable=cm.ScalarMappable(norm=norm, cmap=colormap_just_mesa),\n",
    "                    orientation='horizontal',\n",
    "                    cax=cbar_ax1)\n",
    "\n",
    "        mid_points = [(bounds[i] + bounds[i + 1]) / 2 for i in range(len(bounds) - 1)]\n",
    "        cs1.set_ticks(mid_points)\n",
    "        cs1.set_ticklabels([\"$0:44$\", \"\", \"$46$\", \"\",\"$48$\",\"\",\"$50$\"],color='dimgray')\n",
    "\n",
    "        cbar_ax1.set_frame_on(False)\n",
    "        cbar_ax1.set_frame_on(False)\n",
    "        cbar_ax1.xaxis.set_tick_params(size=0)\n",
    "        label_y_position = box.y0 - cbar_offset - (cbar_height / 2) - space_between / 2\n",
    "        fig.text(box.x0 + 0.06, label_y_position+0.005, 'Token\\n$s_{t\\'}$:', va='center', ha='right', rotation='horizontal', )\n",
    "        ################################################\n",
    "    \n",
    "    label_size = 34  # Size of the labels\n",
    "    axs[0].text(-0.26, 1.12, 'A', transform=axs[0].transAxes, fontsize=label_size, va='top')\n",
    "    axs[1].text(-0.26, 1.12, 'B', transform=axs[1].transAxes, fontsize=label_size, va='top')\n",
    "\n",
    "\n",
    "    if store_results:\n",
    "        fig.savefig('sensitivities_nonlin.pdf', bbox_inches='tight', pad_inches=0.1)\n",
    "    plt.show()\n",
    "\n",
    "plot_sensitivities(sensitivity_result_dicts_sm = sensitivtiy_result_dict_sm_nonlin,\n",
    "                    sensitivity_result_dicts_mesa = sensitivtiy_result_dict_mesa_nonlin,\n",
    "                    sensitivity_result_dicts_just_mesa = None, \n",
    "                    sensitivity_range = 5,\n",
    "                    sensitivity_train_len = 3000)"
   ]
  }
 ],
 "metadata": {
  "kernelspec": {
   "display_name": "jax",
   "language": "python",
   "name": "python3"
  },
  "language_info": {
   "codemirror_mode": {
    "name": "ipython",
    "version": 3
   },
   "file_extension": ".py",
   "mimetype": "text/x-python",
   "name": "python",
   "nbconvert_exporter": "python",
   "pygments_lexer": "ipython3",
   "version": "3.9.10"
  }
 },
 "nbformat": 4,
 "nbformat_minor": 2
}
